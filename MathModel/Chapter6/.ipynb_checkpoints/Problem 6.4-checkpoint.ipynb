{
 "cells": [
  {
   "cell_type": "markdown",
   "metadata": {},
   "source": [
    "**Problem 6.4**\n",
    "\n",
    "Eq 6.10: $y=ce^{kx}$\n",
    "\n",
    "Eq 6.9: $\\frac{\\partial e}{\\partial a_i}=2\\sum_{j=1}^n [\\psi(x_j,a)-y_j]\\frac{\\partial_{\\psi}(x_j,a)}{\\partial a_i}=0$"
   ]
  },
  {
   "cell_type": "markdown",
   "metadata": {},
   "source": [
    "Where $n$ ranges over the number of data points we have and $i=[1,2]$\n",
    "\n",
    "$\\frac{\\partial_{\\psi}(x_j,a)}{\\partial a_1}=e^{kx}$\n",
    "\n",
    "$\\frac{\\partial_{\\psi}(x_j,a)}{\\partial a_2}=xce^{kx}$"
   ]
  },
  {
   "cell_type": "markdown",
   "metadata": {},
   "source": [
    "Thus we must find $c,k$ such that:\n",
    "\n",
    "$[\\psi(x_1,a) - y_1]e^{kx_1} + [\\psi(x_2,a) - y_2]e^{kx_2}+ ... + [\\psi(x_n,a) - y_n]e^{kx_n}=0$\n",
    "\n",
    "$[\\psi(x_1,a) - y_1]x_1ce^{kx_1}+[\\psi(x_2,a) - y_2]x_2ce^{kx_2}+...+[\\psi(x_n,a) - y_n]x_nce^{kx_n}=0$\n",
    "\n",
    "Which since we know $\\psi$ we have:\n",
    "\n",
    "$[ce^{kx_1} - y_1]e^{kx_1} + [ce^{kx_2} - y_2]e^{kx_2}+ ... + [ce^{kx_n} - y_n]e^{kx_n}=0$\n",
    "\n",
    "$[ce^{kx_1} - y_1]x_1ce^{kx_1}+[ce^{kx_2} - y_2]x_2ce^{kx_2}+...+[ce^{kx_n} - y_n]x_nce^{kx_n}=0$\n",
    "\n",
    "for some $ k,c$"
   ]
  },
  {
   "cell_type": "markdown",
   "metadata": {},
   "source": [
    "Obviously, attacking this analytically is quite difficult. Thus we attempt to do it numerically."
   ]
  },
  {
   "cell_type": "markdown",
   "metadata": {},
   "source": [
    "Unfortunately, the problem descriptions states to use Mathematica...we attempted to use it but were unsuccessful. Thus, we proceed to use Python:"
   ]
  },
  {
   "cell_type": "code",
   "execution_count": 109,
   "metadata": {
    "collapsed": true
   },
   "outputs": [],
   "source": [
    "import numpy as np\n",
    "import scipy as cp\n",
    "from scipy import optimize\n",
    "import matplotlib.pyplot as plt\n",
    "%matplotlib inline"
   ]
  },
  {
   "cell_type": "markdown",
   "metadata": {},
   "source": [
    "We create a distribution of data that is \"exponential\" in form:"
   ]
  },
  {
   "cell_type": "code",
   "execution_count": 110,
   "metadata": {
    "collapsed": true
   },
   "outputs": [],
   "source": [
    "c = np.random.random((1,100))*1.1\n",
    "k = np.random.random((1,100))\n",
    "x = np.random.random((1,100))*3.\n",
    "yData = c*np.exp(k*x)"
   ]
  },
  {
   "cell_type": "markdown",
   "metadata": {},
   "source": [
    "We plot our \"exponential\" in form data:"
   ]
  },
  {
   "cell_type": "code",
   "execution_count": 111,
   "metadata": {
    "collapsed": false
   },
   "outputs": [
    {
     "data": {
      "text/plain": [
       "<matplotlib.text.Text at 0x205208d0>"
      ]
     },
     "execution_count": 111,
     "metadata": {},
     "output_type": "execute_result"
    },
    {
     "data": {
      "image/png": "[encoded data removed]",
      "text/plain": [
       "<matplotlib.figure.Figure at 0x1febf2b0>"
      ]
     },
     "metadata": {},
     "output_type": "display_data"
    }
   ],
   "source": [
    "plt.scatter(x,yData)\n",
    "plt.xlabel('x')\n",
    "plt.ylabel('y')\n",
    "plt.title('y versus x')"
   ]
  },
  {
   "cell_type": "markdown",
   "metadata": {},
   "source": [
    "We now create two functions. These are the individual elements in the sums above. The final function returns a vector of the sum of each f1, f2:"
   ]
  },
  {
   "cell_type": "code",
   "execution_count": 112,
   "metadata": {
    "collapsed": true
   },
   "outputs": [],
   "source": [
    "def f1(xi,yi,ci,ki):\n",
    "    return (ci*np.exp(ki*xi)-yi)*np.exp(ki*xi)"
   ]
  },
  {
   "cell_type": "code",
   "execution_count": 113,
   "metadata": {
    "collapsed": true
   },
   "outputs": [],
   "source": [
    "def f2(xi,yi,ci,ki):\n",
    "    return (ci*np.exp(ki*xi)-yi)*ci*xi*np.exp(ki*xi)"
   ]
  },
  {
   "cell_type": "code",
   "execution_count": 114,
   "metadata": {
    "collapsed": true
   },
   "outputs": [],
   "source": [
    "def F(arg):\n",
    "    c = arg[0]\n",
    "    k = arg[1]\n",
    "    #print c,k\n",
    "    f1Vect = np.vectorize(f1,excluded=['ci','ki'])\n",
    "    f2Vect = np.vectorize(f2,excluded=['ci','ki'])\n",
    "    f1Re = f1Vect(x,yData,c,k)\n",
    "    f2Re = f2Vect(x,yData,c,k)\n",
    "    return np.array([np.sum(f1Re),np.sum(f2Re)])"
   ]
  },
  {
   "cell_type": "markdown",
   "metadata": {},
   "source": [
    "We now proceed to find the root of our function numerically:"
   ]
  },
  {
   "cell_type": "code",
   "execution_count": 115,
   "metadata": {
    "collapsed": false,
    "scrolled": true
   },
   "outputs": [],
   "source": [
    "x2 = np.linspace(0,3,100)\n",
    "rs = optimize.root(F,[0.5,0.5])"
   ]
  },
  {
   "cell_type": "code",
   "execution_count": 116,
   "metadata": {
    "collapsed": true
   },
   "outputs": [],
   "source": [
    "yFit = rs.x[0]*np.exp(rs.x[1]*x2)"
   ]
  },
  {
   "cell_type": "code",
   "execution_count": 117,
   "metadata": {
    "collapsed": false
   },
   "outputs": [
    {
     "data": {
      "text/plain": [
       "<matplotlib.text.Text at 0x2063bd68>"
      ]
     },
     "execution_count": 117,
     "metadata": {},
     "output_type": "execute_result"
    },
    {
     "data": {
      "image/png": "[encoded data removed]",
      "text/plain": [
       "<matplotlib.figure.Figure at 0x1fc303c8>"
      ]
     },
     "metadata": {},
     "output_type": "display_data"
    }
   ],
   "source": [
    "plt.plot(x,yData,'o')\n",
    "plt.plot(x2,yFit,label='Exponential Fit')\n",
    "plt.legend()\n",
    "plt.xlabel('x')\n",
    "plt.ylabel('y')\n",
    "plt.title('y versus x')"
   ]
  }
 ],
 "metadata": {
  "kernelspec": {
   "display_name": "Python 2",
   "language": "python",
   "name": "python2"
  },
  "language_info": {
   "codemirror_mode": {
    "name": "ipython",
    "version": 2
   },
   "file_extension": ".py",
   "mimetype": "text/x-python",
   "name": "python",
   "nbconvert_exporter": "python",
   "pygments_lexer": "ipython2",
   "version": "2.7.10"
  }
 },
 "nbformat": 4,
 "nbformat_minor": 0
}
