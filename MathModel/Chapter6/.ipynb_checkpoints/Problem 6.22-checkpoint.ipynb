{
 "cells": [
  {
   "cell_type": "markdown",
   "metadata": {},
   "source": [
    "**Problem 6.22**"
   ]
  },
  {
   "cell_type": "markdown",
   "metadata": {},
   "source": [
    "Our functions are: $1, \\cos t, \\sin t,\\cos 2t, \\sin 2t, \\cos 3t \\sin 3t, \\cos 4t, \\sin 4t, \\cos 5t, \\sin 5t$"
   ]
  },
  {
   "cell_type": "markdown",
   "metadata": {},
   "source": [
    "We observe that $\\cos (nt)$ is even while $\\sin (nt)$ is odd. Thus \n",
    "\n",
    "$\\cos (nt)*\\sin (mt)$ is an odd function.\n",
    "\n",
    "$\\cos(nt) *\\cos(mt)$ is an even function.\n",
    "\n",
    "$\\sin(nt)*\\sin(mt)$ is an even function."
   ]
  },
  {
   "cell_type": "markdown",
   "metadata": {},
   "source": [
    "Thus: $\\int_{-\\pi}^{\\pi} \\cos(nt)*\\sin(mt) dt=0$ (since $\\cos(nt)\\sin(mt)$ is odd) and they are mutually orthogonal."
   ]
  },
  {
   "cell_type": "markdown",
   "metadata": {},
   "source": [
    "Thus: $\\int_{-\\pi}^{\\pi} 1*sin(nt)dt=0$ (since $\\sin$ is odd) and they are mutually orthogonal."
   ]
  },
  {
   "cell_type": "markdown",
   "metadata": {},
   "source": [
    "For: $\\int_{-\\pi}^{\\pi} 1*cos(nt)$\n",
    "\n",
    "Let $j=nt$ thus $dj/dt=n \\rightarrow dj/n=dt$\n",
    "\n",
    "$\\int_{-\\pi}^{\\pi} 1*cos(nt)=\\frac{1}{n}\\int_{-\\pi}^{\\pi} \\cos(j)dj=\\frac{1}{n}(\\sin(\\pi)-\\sin(-\\pi))=\\frac{1}{n}(1-1)=0$ Thus they are also mutually orthogonal."
   ]
  },
  {
   "cell_type": "markdown",
   "metadata": {},
   "source": [
    "Now we work on: $\\int_{-\\pi}^{\\pi} \\cos(nt)\\cos(mt)dt$\n",
    "\n",
    "We use integration by parts: $\\int udv = uv - \\int vdu$"
   ]
  },
  {
   "cell_type": "markdown",
   "metadata": {},
   "source": [
    "Let $u=\\cos(nt)$ thus $du=-n\\sin(nt)$"
   ]
  },
  {
   "cell_type": "markdown",
   "metadata": {},
   "source": [
    "Let $v = \\int\\cos(mt)dt=1/m\\sin(mt)$\n",
    "\n",
    "Thus: $\\int \\cos(nt)\\cos(mt)dt = 1/m\\sin(mt)\\cos(nt)+n/m\\int\\sin(nt)\\sin(mt)dt$"
   ]
  },
  {
   "cell_type": "markdown",
   "metadata": {},
   "source": [
    "Do the it again on the second term:\n",
    "\n",
    "Let $u=\\sin(mt) \\rightarrow du = m\\cos(mt)$\n",
    "\n",
    "$v = \\sin(nt)dt \\rightarrow \\int \\sin(nt)dt = -1/n\\cos(nt)$"
   ]
  },
  {
   "cell_type": "markdown",
   "metadata": {},
   "source": [
    "Thus: $\\int\\sin(nt)\\sin(mt)dt = -1/n\\sin(mt)\\cos(nt) + -m/n\\int\\cos(nt)\\cos(mt)dt$"
   ]
  },
  {
   "cell_type": "markdown",
   "metadata": {},
   "source": [
    "Thus: $\\int \\cos(nt)\\cos(mt)dt = 1/m\\sin(mt)\\cos(nt)+n/m[-1/n\\sin(mt)\\cos(nt) + -m/n\\int\\cos(nt)\\cos(mt)dt]$\n",
    "\n",
    "$=1/m\\sin(mt)\\cos(nt) + -1/m\\sin(mt)\\cos(nt) -\\int\\cos(nt)\\cos(mt)dt$"
   ]
  },
  {
   "cell_type": "markdown",
   "metadata": {},
   "source": [
    "Thus: $\\int2\\cos(nt)\\cos(mt)dt=0\\rightarrow \\int\\cos(nt)\\cos(mt)dt =0$ for any limits...thus $\\cos(nt)$ and $\\cos(mt)$ are mutually orthogonal."
   ]
  },
  {
   "cell_type": "markdown",
   "metadata": {},
   "source": [
    "Finally, we show that: $\\int \\sin(nt)\\sin(mt)dt$ are mutually orthogonal.\n",
    "\n",
    "We proceed as before with integration by parts..."
   ]
  },
  {
   "cell_type": "markdown",
   "metadata": {},
   "source": [
    "$\\int\\sin(nt)\\sin(mt)dt = -1/m\\cos(mt)\\sin(nt)+n/m\\int\\cos(mt)\\cos(nt)dt$"
   ]
  },
  {
   "cell_type": "markdown",
   "metadata": {},
   "source": [
    "$\\int\\cos(nt)\\cos(mt)dt=1/m\\sin(mt)\\cos(nt)+n/m\\int \\sin(nt)\\sin(mt)dt$"
   ]
  },
  {
   "cell_type": "markdown",
   "metadata": {},
   "source": [
    "$\\int\\sin(nt)\\sin(mt)dt=-1/m\\cos(mt)\\sin(nt)+n/m^2\\sin(mt)\\cos(nt) +n^2/m^2\\int\\sin(nt)\\sin(mt)dt$"
   ]
  },
  {
   "cell_type": "markdown",
   "metadata": {},
   "source": [
    "$(1-n^2/m^2)\\int\\sin(nt)\\sin(mt)dt = -1/m\\cos(mt)\\sin(nt)+n/m^2\\sin(mt)\\cos(nt)$\n",
    "\n",
    "$\\int\\sin(nt)\\sin(mt)dt = 1/(1-n^2/m^2))(-1/m\\cos(mt)\\sin(nt)+n/m^2\\sin(mt)\\cos(nt))\\bigg|_{-\\pi}^{\\pi}=0$"
   ]
  },
  {
   "cell_type": "markdown",
   "metadata": {},
   "source": [
    "Thus all functions are mutually orthogonal to each other."
   ]
  }
 ],
 "metadata": {
  "kernelspec": {
   "display_name": "Python 2",
   "language": "python",
   "name": "python2"
  },
  "language_info": {
   "codemirror_mode": {
    "name": "ipython",
    "version": 2
   },
   "file_extension": ".py",
   "mimetype": "text/x-python",
   "name": "python",
   "nbconvert_exporter": "python",
   "pygments_lexer": "ipython2",
   "version": "2.7.10"
  }
 },
 "nbformat": 4,
 "nbformat_minor": 0
}
