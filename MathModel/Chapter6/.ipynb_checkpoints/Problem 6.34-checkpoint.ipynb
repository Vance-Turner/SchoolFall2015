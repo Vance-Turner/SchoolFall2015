{
 "cells": [
  {
   "cell_type": "markdown",
   "metadata": {},
   "source": [
    "**Problem 6.34**"
   ]
  },
  {
   "cell_type": "markdown",
   "metadata": {},
   "source": [
    "Compute the norm of $x^n$ in the Hilbert space $X=L^2(-1,1)$"
   ]
  },
  {
   "cell_type": "markdown",
   "metadata": {},
   "source": [
    "The norm in $L^2$ is defined as: $||f||_2=\\big(\\int_\\Omega f(x)^2dx\\big)^{1/2}$"
   ]
  },
  {
   "cell_type": "markdown",
   "metadata": {},
   "source": [
    "So: $||x||_2=\\big(\\int_{-1}^1 x^{2n}dx\\big)^{1/2}=\\big(1/(2n+1)[x^{2n+1}]\\big|_{-1}^{1}\\big)^{1/2}$"
   ]
  },
  {
   "cell_type": "markdown",
   "metadata": {},
   "source": [
    "$=\\begin{cases}\n",
    "\\big(1/(2n+1) \\textrm{ if } n=\\textrm{ Integer } \\\\\n",
    "\\textrm{ Undefined } \\textrm{ if } n=\\textrm{ Non-Integer} \\\\\n",
    "\\end{cases}$"
   ]
  }
 ],
 "metadata": {
  "kernelspec": {
   "display_name": "Python 2",
   "language": "python",
   "name": "python2"
  },
  "language_info": {
   "codemirror_mode": {
    "name": "ipython",
    "version": 2
   },
   "file_extension": ".py",
   "mimetype": "text/x-python",
   "name": "python",
   "nbconvert_exporter": "python",
   "pygments_lexer": "ipython2",
   "version": "2.7.10"
  }
 },
 "nbformat": 4,
 "nbformat_minor": 0
}
