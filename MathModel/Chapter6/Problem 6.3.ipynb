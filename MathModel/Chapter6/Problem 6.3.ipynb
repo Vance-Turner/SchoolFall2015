{
 "cells": [
  {
   "cell_type": "markdown",
   "metadata": {},
   "source": [
    "**Math Modeling**\n",
    "\n",
    "**Chapter 6 #6.3**\n",
    "\n",
    "**Vance Turnewitsch**"
   ]
  },
  {
   "cell_type": "markdown",
   "metadata": {},
   "source": [
    "Given the data:\n",
    "\n",
    "$$\\begin{array}{c|cccc}\n",
    "x & 1.0 & 1.7 & 2.3 & 3.1 \\\\ \\hline\n",
    "y & 0.6 & 1.4 & 3.2 & 5.2 \\\\\n",
    "\\end{array}$$\n",
    "\n",
    "Find the best fit of the line $y=mx+b$ in the sense of:\n",
    "\n",
    "$\\min(e)=\\sum_{j=1}^n |y_j-\\psi(x_j,a)|$"
   ]
  },
  {
   "cell_type": "markdown",
   "metadata": {
    "collapsed": true
   },
   "source": [
    "Thus we have the following task:\n",
    "\n",
    "$\\min(e)=\\big|0.6-m-b\\big|+\\big|1.4-1.7m-b\\big|+\\big|3.2-2.3m-b\\big|+\\big|5.2-3.2m-b\\big|$"
   ]
  },
  {
   "cell_type": "markdown",
   "metadata": {},
   "source": [
    "Which since we have absolute values, is effectively the same as (we make the largest as small as is possible then automatically we minimize all:\n",
    "\n",
    "$\\min\\{\\max\\{\\big|0.6-m-b\\big|,\\big|1.4-1.7m-b\\big|,\\big|3.2-2.3m-b\\big|,\\big|5.2-3.2m-b\\big|\\}\\}$"
   ]
  },
  {
   "cell_type": "markdown",
   "metadata": {},
   "source": [
    "Unfortunately, this is analytically a difficult problem (we cannot differentiate); thus, we attack it numerically. First, let's see what this data looks like so that we may gain some insight:"
   ]
  },
  {
   "cell_type": "code",
   "execution_count": 53,
   "metadata": {
    "collapsed": true
   },
   "outputs": [],
   "source": [
    "import numpy as np\n",
    "import matplotlib.pyplot as plt\n",
    "%matplotlib inline"
   ]
  },
  {
   "cell_type": "code",
   "execution_count": 54,
   "metadata": {
    "collapsed": false
   },
   "outputs": [],
   "source": [
    "# We define the x and y data\n",
    "x = [1.0,1.7,2.3,3.1]\n",
    "y = [0.6,1.4,3.2,5.2]"
   ]
  },
  {
   "cell_type": "code",
   "execution_count": 55,
   "metadata": {
    "collapsed": false
   },
   "outputs": [
    {
     "data": {
      "text/plain": [
       "<matplotlib.text.Text at 0x7fd50f10a250>"
      ]
     },
     "execution_count": 55,
     "metadata": {},
     "output_type": "execute_result"
    },
    {
     "data": {
      "image/png": "[encoded data removed]",
      "text/plain": [
       "<matplotlib.figure.Figure at 0x7fd50ef85a90>"
      ]
     },
     "metadata": {},
     "output_type": "display_data"
    }
   ],
   "source": [
    "plt.scatter(x,y)\n",
    "plt.xlabel('x')\n",
    "plt.ylabel('y')\n",
    "plt.title('Raw Data')"
   ]
  },
  {
   "cell_type": "markdown",
   "metadata": {},
   "source": [
    "As we can see, there are clearly some values of $m,b$ that will not minimize $e$. We only need to search for specific values. Thus, we will minimize within the space:\n",
    "\n",
    "$$b\\in [-5,8]$$\n",
    "\n",
    "$$m\\in [0,5]$$\n",
    "\n",
    "which we are confident we will find the minimizer. We also try a finite number of points; thus, this is only an approximation."
   ]
  },
  {
   "cell_type": "code",
   "execution_count": 56,
   "metadata": {
    "collapsed": true
   },
   "outputs": [],
   "source": [
    "b = np.linspace(-5,8,100)\n",
    "m = np.linspace(0,5,100)"
   ]
  },
  {
   "cell_type": "code",
   "execution_count": 57,
   "metadata": {
    "collapsed": true
   },
   "outputs": [],
   "source": [
    "def fun1(mi,bi):\n",
    "    return np.max(np.abs(np.array([[0.6-mi-bi],[1.4-1.7*mi-bi],[3.2-2.3*mi-bi],[5.2-3.2*mi-bi]])))"
   ]
  },
  {
   "cell_type": "code",
   "execution_count": 58,
   "metadata": {
    "collapsed": false,
    "scrolled": true
   },
   "outputs": [
    {
     "name": "stdout",
     "output_type": "stream",
     "text": [
      "Minimum: 0.357575757576  at b= -1.84848484848  and m= 2.12121212121\n"
     ]
    }
   ],
   "source": [
    "minVal = (100,b[0],m[0])\n",
    "count = 0\n",
    "for bi in b:\n",
    "    for mi in m:\n",
    "        val = fun1(mi,bi)\n",
    "        if val < minVal[0]:\n",
    "            minVal = (val,bi,mi)\n",
    "        count += 1\n",
    "print \"Minimum:\",minVal[0],\" at b=\",minVal[1],\" and m=\",minVal[2]"
   ]
  },
  {
   "cell_type": "markdown",
   "metadata": {},
   "source": [
    "Thus, the best fitting line is: $y=2.12x-1.84$\n",
    "\n",
    "We plot this line on the data for visual:"
   ]
  },
  {
   "cell_type": "code",
   "execution_count": 59,
   "metadata": {
    "collapsed": false
   },
   "outputs": [],
   "source": [
    "x2 = np.linspace(0.5,3.5,100)\n",
    "yFit = 2.12*x2 - 1.84"
   ]
  },
  {
   "cell_type": "code",
   "execution_count": 60,
   "metadata": {
    "collapsed": false
   },
   "outputs": [
    {
     "data": {
      "text/plain": [
       "<matplotlib.legend.Legend at 0x7fd50ecdf710>"
      ]
     },
     "execution_count": 60,
     "metadata": {},
     "output_type": "execute_result"
    },
    {
     "data": {
      "image/png": "[encoded data removed]",
      "text/plain": [
       "<matplotlib.figure.Figure at 0x7fd50edb6e50>"
      ]
     },
     "metadata": {},
     "output_type": "display_data"
    }
   ],
   "source": [
    "plt.plot(x,y,\"*\",label=\"Raw Data\")\n",
    "plt.plot(x2,yFit,label='Fit')\n",
    "plt.xlabel('x')\n",
    "plt.ylabel('y')\n",
    "plt.title('Raw Data and Fit')\n",
    "plt.legend(loc=2)"
   ]
  }
 ],
 "metadata": {
  "kernelspec": {
   "display_name": "Python 2",
   "language": "python",
   "name": "python2"
  },
  "language_info": {
   "codemirror_mode": {
    "name": "ipython",
    "version": 2
   },
   "file_extension": ".py",
   "mimetype": "text/x-python",
   "name": "python",
   "nbconvert_exporter": "python",
   "pygments_lexer": "ipython2",
   "version": "2.7.10"
  }
 },
 "nbformat": 4,
 "nbformat_minor": 0
}
