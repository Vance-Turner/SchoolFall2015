{
 "cells": [
  {
   "cell_type": "markdown",
   "metadata": {},
   "source": [
    "### Problem 1.1\n",
    "### Vance Turnewitsch\n",
    "\n",
    "Repeatedly roll two fair dice. Graph the cumulative distribution function $F(x)$ for the random variable $X$ that sums their top face values on each roll.\n",
    "\n",
    "### Solution:\n",
    "We are going to use pseudorandom number generation in Python for our die rolling and plotting."
   ]
  },
  {
   "cell_type": "code",
   "execution_count": 37,
   "metadata": {
    "collapsed": false
   },
   "outputs": [],
   "source": [
    "import numpy as np\n",
    "import matplotlib.pyplot as plt\n",
    "%matplotlib inline"
   ]
  },
  {
   "cell_type": "code",
   "execution_count": 38,
   "metadata": {
    "collapsed": true
   },
   "outputs": [],
   "source": [
    "# This function \"rolls\" a single die\n",
    "def rollDie():\n",
    "    value = np.random.rand() # Unformly generates numbers [0,1)\n",
    "    return int(value*6.0) # Scale from 1..6"
   ]
  },
  {
   "cell_type": "code",
   "execution_count": 39,
   "metadata": {
    "collapsed": true
   },
   "outputs": [],
   "source": [
    "# This function rolls two die and returns the sum of the result\n",
    "def rollDice():\n",
    "    die1 = rollDie()\n",
    "    die2 = rollDie()\n",
    "    return die1 + die2"
   ]
  },
  {
   "cell_type": "code",
   "execution_count": 40,
   "metadata": {
    "collapsed": true
   },
   "outputs": [],
   "source": [
    "# This is the cumulative distribution function that returns the\n",
    "# probability that the measurement is less than x. Data should\n",
    "# contain all the measurement results.\n",
    "def F(x,data):\n",
    "    size = 0.0\n",
    "    count = 0.0\n",
    "    for dat in data:\n",
    "        if dat <= x: # Test if this datum is less than x\n",
    "            count += 1.0\n",
    "        size += 1.0\n",
    "    return count/size"
   ]
  },
  {
   "cell_type": "code",
   "execution_count": 41,
   "metadata": {
    "collapsed": false
   },
   "outputs": [],
   "source": [
    "N = 1000 # Number of rolls\n",
    "data = []\n",
    "for i in xrange(N):\n",
    "    data.append(rollDice()) # Roll our dice and record the result"
   ]
  },
  {
   "cell_type": "code",
   "execution_count": 42,
   "metadata": {
    "collapsed": false
   },
   "outputs": [],
   "source": [
    "x = np.linspace(2,12,11)\n",
    "Fvect = []\n",
    "for i in x:\n",
    "    Fvect.append(F(i,data))"
   ]
  },
  {
   "cell_type": "code",
   "execution_count": 43,
   "metadata": {
    "collapsed": false
   },
   "outputs": [
    {
     "data": {
      "text/plain": [
       "<matplotlib.text.Text at 0x106b08290>"
      ]
     },
     "execution_count": 43,
     "metadata": {},
     "output_type": "execute_result"
    },
    {
     "data": {
      "image/png": "[encoded data removed]",
      "text/plain": [
       "<matplotlib.figure.Figure at 0x106929690>"
      ]
     },
     "metadata": {},
     "output_type": "display_data"
    }
   ],
   "source": [
    "plt.plot(x,Fvect,\"*\")\n",
    "plt.grid()\n",
    "plt.xlabel(\"Die Face Sum\")\n",
    "plt.ylabel(\"F(Die Face Sum)\")\n",
    "plt.title(\"F(Die Face Sum) vs Die Face Sum\")"
   ]
  }
 ],
 "metadata": {
  "kernelspec": {
   "display_name": "Python 2",
   "language": "python",
   "name": "python2"
  },
  "language_info": {
   "codemirror_mode": {
    "name": "ipython",
    "version": 2
   },
   "file_extension": ".py",
   "mimetype": "text/x-python",
   "name": "python",
   "nbconvert_exporter": "python",
   "pygments_lexer": "ipython2",
   "version": "2.7.10"
  }
 },
 "nbformat": 4,
 "nbformat_minor": 0
}
