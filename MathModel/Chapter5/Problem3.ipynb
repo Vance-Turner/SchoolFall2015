{
 "cells": [
  {
   "cell_type": "markdown",
   "metadata": {},
   "source": [
    "**Applied Mathematics I**\n",
    "\n",
    "**Chapter 5 #3**\n",
    "\n",
    "**Vance Turnewitsch**"
   ]
  },
  {
   "cell_type": "markdown",
   "metadata": {},
   "source": [
    "Use the simplex method to solve the following linear program:\n",
    "\n",
    "We change: $x_1=x$, $x_2=y$, $x_3=z$\n",
    "\n",
    "Maximize: $f(x,y,z)=x+y+3z$\n",
    "\n",
    "Subject to: $x+z=1$, $y+z=2$, $x,y,z\\geq 0$"
   ]
  },
  {
   "cell_type": "markdown",
   "metadata": {
    "collapsed": false
   },
   "source": [
    "For simplex method, we must convert to standard form: (Note: This is not the \"standard form\" as found in the textbook; but after significant research, multiple other resources I have found indicate simplex method **maximizes** a function and thus **standard form** is actually a maximization, not minimization, problem)\n",
    "\n",
    "Maximize: $P = x+y+3z$\n",
    "\n",
    "Subject to:\n",
    "\n",
    "$$x+z=1$$\n",
    "$$y+z=2$$\n",
    "$$x,y,z\\geq 0$$\n",
    "\n",
    "Thus we have the following system:\n",
    "\n",
    "$$x+z=1$$\n",
    "$$y+z=2$$\n",
    "$$P-x-y-3x=0$$"
   ]
  },
  {
   "cell_type": "markdown",
   "metadata": {},
   "source": [
    "Which is the matrix: $\\left(\\begin{array}{cccc}\n",
    "0 & 1& 0& 1& 1\\\\\n",
    "0 & 0& 1& 1& 2\\\\\n",
    "1& -1& -1& -3& 0\\\\\n",
    "\\end{array} \\right)$ $1/1=1, 2/1=2$, So Pivot about $m_{1,4}$"
   ]
  },
  {
   "cell_type": "markdown",
   "metadata": {},
   "source": [
    "$\\begin{array}{c}\n",
    "3R_1+R_3 \\rightarrow R_3 \\\\\n",
    "-R_1+R_2\\rightarrow R_2 \\end{array}:$\n",
    "$\\left(\\begin{array}{cccc}\n",
    "0 & 1& 0& 1& 1\\\\\n",
    "0 & -1& 1& 0& 1\\\\\n",
    "1& 2& -1& 0& 3\\\\\n",
    "\\end{array} \\right)$ Only viable option is to pivot about $m_{2,3}$"
   ]
  },
  {
   "cell_type": "markdown",
   "metadata": {},
   "source": [
    "$R_2+R_3\\rightarrow R_3:$$\\left(\\begin{array}{cccc}\n",
    "0 & 1& 0& 1& 1\\\\\n",
    "0 & 0& 1& 0& 1\\\\\n",
    "1& 1& 0& 0& 4\\\\\n",
    "\\end{array} \\right)$ And we are done!"
   ]
  },
  {
   "cell_type": "markdown",
   "metadata": {},
   "source": [
    "We see we have a basic variable: $P=4$"
   ]
  }
 ],
 "metadata": {
  "kernelspec": {
   "display_name": "Python 2",
   "language": "python",
   "name": "python2"
  },
  "language_info": {
   "codemirror_mode": {
    "name": "ipython",
    "version": 2
   },
   "file_extension": ".py",
   "mimetype": "text/x-python",
   "name": "python",
   "nbconvert_exporter": "python",
   "pygments_lexer": "ipython2",
   "version": "2.7.10"
  }
 },
 "nbformat": 4,
 "nbformat_minor": 0
}
