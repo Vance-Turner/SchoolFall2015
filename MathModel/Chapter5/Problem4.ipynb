{
 "cells": [
  {
   "cell_type": "markdown",
   "metadata": {},
   "source": [
    "**Math Modeling**\n",
    "\n",
    "**Chapter 5 #4**\n",
    "\n",
    "**Vance Turnewitsch**"
   ]
  },
  {
   "cell_type": "markdown",
   "metadata": {},
   "source": [
    "Convert the following problem to standard form and then solve it using the simplex method:\n",
    "\n",
    "Maximize: $2x_1+x_2$\n",
    "\n",
    "Subject to: $0\\leq x_1\\leq5$\n",
    "\n",
    "$0\\leq x_2\\leq7$\n",
    "\n",
    "$x_1+x_2\\leq9$"
   ]
  },
  {
   "cell_type": "markdown",
   "metadata": {},
   "source": [
    "First, we convert variables: $x_1=x, x_2=y$\n",
    "\n",
    "To get:\n",
    "\n",
    "Maximize: $2x+y$\n",
    "\n",
    "Subject to: $0\\leq x \\leq 5$\n",
    "\n",
    "$0\\leq y \\leq 7$\n",
    "\n",
    "$x+y\\leq 9$"
   ]
  },
  {
   "cell_type": "markdown",
   "metadata": {},
   "source": [
    "We then break up these inequalities: $0\\leq x$, $x\\leq 5$, $0\\leq y$, $y\\leq 7$\n",
    "\n",
    "And introduce various slack variables: $x+m=5$, $y+n=7$, $x+y+q=9$\n",
    "\n",
    "We now have the following standard form:"
   ]
  },
  {
   "cell_type": "markdown",
   "metadata": {},
   "source": [
    "**Maximize**: $F=2x+y$\n",
    "\n",
    "**Subject to**: \n",
    "\n",
    "$$x+m=5$$\n",
    "$$y+n=7$$\n",
    "$$x+y+q=9$$\n",
    "$$F-2x-y=0$$\n",
    "\n",
    "This creates the following table:"
   ]
  },
  {
   "cell_type": "markdown",
   "metadata": {},
   "source": [
    "$A=\\left(\\begin{array}{ccccccc}\n",
    "1 & 0 & 1 & 0 & 0 & 0 & 5 \\\\\n",
    "0 & 1 & 0 & 1 & 0 & 0 & 7 \\\\\n",
    "1 & 1 & 0 & 0 & 1 & 0 & 9 \\\\\n",
    "-2 & -1 & 0 & 0 & 0 & 1 & 0 \\\\\n",
    "\\end{array}\\right)$"
   ]
  },
  {
   "cell_type": "markdown",
   "metadata": {},
   "source": [
    "$5/1=5$, $9/1=9$ Thus use: $A_{1,1}$ for pivoting"
   ]
  },
  {
   "cell_type": "markdown",
   "metadata": {},
   "source": [
    "$A_2=\\left(\\begin{array}{ccccccc}\n",
    "1 & 0 & 1 & 0 & 0 & 0 & 5 \\\\\n",
    "0 & 1 & 0 & 1 & 0 & 0 & 7 \\\\\n",
    "0 & 1 & -1 & 0 & 1 & 0 & 4 \\\\\n",
    "0 & -1 & 2 & 0 & 0 & 1 & 10 \\\\\n",
    "\\end{array}\\right)$"
   ]
  },
  {
   "cell_type": "markdown",
   "metadata": {},
   "source": [
    "$7/1=7, 4/1=4$ Thus use: $A_{3,2}$ for pivoting"
   ]
  },
  {
   "cell_type": "markdown",
   "metadata": {},
   "source": [
    "$A_3=\\left(\\begin{array}{ccccccc}\n",
    "1 & 0 & 1 & 0 & 0 & 0 & 5 \\\\\n",
    "0 & 0 & 1 & 1 & -1 & 0 & 3 \\\\\n",
    "0 & 1 & -1 & 0 & 1 & 0 & 4 \\\\\n",
    "0 & 0 & 1 & 0 & 1 & 1 & 14 \\\\\n",
    "\\end{array}\\right)$"
   ]
  },
  {
   "cell_type": "markdown",
   "metadata": {},
   "source": [
    "And we are done! $F=14$. Thus the maximum is $14$.\n",
    "\n",
    "We also observe:\n",
    "\n",
    "$$x=5$$\n",
    "$$y=4$$\n",
    "$$n=3$$"
   ]
  }
 ],
 "metadata": {
  "kernelspec": {
   "display_name": "Python 2",
   "language": "python",
   "name": "python2"
  },
  "language_info": {
   "codemirror_mode": {
    "name": "ipython",
    "version": 2
   },
   "file_extension": ".py",
   "mimetype": "text/x-python",
   "name": "python",
   "nbconvert_exporter": "python",
   "pygments_lexer": "ipython2",
   "version": "2.7.10"
  }
 },
 "nbformat": 4,
 "nbformat_minor": 0
}
