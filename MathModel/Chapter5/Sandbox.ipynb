{
 "cells": [
  {
   "cell_type": "code",
   "execution_count": 75,
   "metadata": {
    "collapsed": true
   },
   "outputs": [],
   "source": [
    "import sympy as spy"
   ]
  },
  {
   "cell_type": "code",
   "execution_count": 76,
   "metadata": {
    "collapsed": true
   },
   "outputs": [],
   "source": [
    "spy.init_printing()"
   ]
  },
  {
   "cell_type": "code",
   "execution_count": 77,
   "metadata": {
    "collapsed": true
   },
   "outputs": [],
   "source": [
    "A = spy.Matrix([[10,7,5,1,0,0,5],\n",
    "               [4,7,10,0,1,0,7],\n",
    "               [-40,-49,-50,0,0,1,0]])"
   ]
  },
  {
   "cell_type": "code",
   "execution_count": 78,
   "metadata": {
    "collapsed": false
   },
   "outputs": [
    {
     "data": {
      "image/png": "[encoded data removed]",
      "text/latex": [
       "$$\\left[\\begin{matrix}10 & 7 & 5 & 1 & 0 & 0 & 5\\\\4 & 7 & 10 & 0 & 1 & 0 & 7\\\\-40 & -49 & -50 & 0 & 0 & 1 & 0\\end{matrix}\\right]$$"
      ],
      "text/plain": [
       "⎡10    7    5   1  0  0  5⎤\n",
       "⎢                         ⎥\n",
       "⎢ 4    7   10   0  1  0  7⎥\n",
       "⎢                         ⎥\n",
       "⎣-40  -49  -50  0  0  1  0⎦"
      ]
     },
     "execution_count": 78,
     "metadata": {},
     "output_type": "execute_result"
    }
   ],
   "source": [
    "A"
   ]
  },
  {
   "cell_type": "code",
   "execution_count": 79,
   "metadata": {
    "collapsed": false
   },
   "outputs": [],
   "source": [
    "def divide(M,col1):\n",
    "    return M[0:-1,-1]/M[0:-1,col1]"
   ]
  },
  {
   "cell_type": "code",
   "execution_count": 80,
   "metadata": {
    "collapsed": false
   },
   "outputs": [
    {
     "data": {
      "image/png": "[encoded data removed]",
      "text/latex": [
       "$$\\left[\\begin{matrix}5\\\\7\\end{matrix}\\right]$$"
      ],
      "text/plain": [
       "⎡5⎤\n",
       "⎢ ⎥\n",
       "⎣7⎦"
      ]
     },
     "execution_count": 80,
     "metadata": {},
     "output_type": "execute_result"
    }
   ],
   "source": [
    "A[0:-1,-1]"
   ]
  },
  {
   "cell_type": "code",
   "execution_count": 81,
   "metadata": {
    "collapsed": false
   },
   "outputs": [
    {
     "data": {
      "image/png": "[encoded data removed]",
      "text/latex": [
       "$$\\left[\\begin{matrix}1\\\\0\\end{matrix}\\right]$$"
      ],
      "text/plain": [
       "⎡1⎤\n",
       "⎢ ⎥\n",
       "⎣0⎦"
      ]
     },
     "execution_count": 81,
     "metadata": {},
     "output_type": "execute_result"
    }
   ],
   "source": [
    "A[0:-1,3]"
   ]
  },
  {
   "cell_type": "code",
   "execution_count": 82,
   "metadata": {
    "collapsed": true
   },
   "outputs": [],
   "source": [
    "import numpy as np"
   ]
  },
  {
   "cell_type": "code",
   "execution_count": 83,
   "metadata": {
    "collapsed": true
   },
   "outputs": [],
   "source": [
    "A = np.array([[10,7,5,1,0,0,5],\n",
    "             [4,7,10,0,1,0,7],\n",
    "             [-40,-49,-50,0,0,1,0]])*1."
   ]
  },
  {
   "cell_type": "code",
   "execution_count": 84,
   "metadata": {
    "collapsed": false
   },
   "outputs": [
    {
     "data": {
      "text/plain": [
       "array([[ 10.,   7.,   5.,   1.,   0.,   0.,   5.],\n",
       "       [  4.,   7.,  10.,   0.,   1.,   0.,   7.],\n",
       "       [-40., -49., -50.,   0.,   0.,   1.,   0.]])"
      ]
     },
     "execution_count": 84,
     "metadata": {},
     "output_type": "execute_result"
    }
   ],
   "source": [
    "A"
   ]
  },
  {
   "cell_type": "code",
   "execution_count": 85,
   "metadata": {
    "collapsed": false
   },
   "outputs": [
    {
     "data": {
      "text/plain": [
       "array([[ 8. ,  3.5,  0. ,  1. , -0.5,  0. ,  1.5]])"
      ]
     },
     "execution_count": 85,
     "metadata": {},
     "output_type": "execute_result"
    }
   ],
   "source": [
    "-5*A[1:2]/10. + A[0:1]"
   ]
  },
  {
   "cell_type": "code",
   "execution_count": 86,
   "metadata": {
    "collapsed": false
   },
   "outputs": [
    {
     "data": {
      "text/plain": [
       "array([[-20., -14.,   0.,   0.,   5.,   1.,  35.]])"
      ]
     },
     "execution_count": 86,
     "metadata": {},
     "output_type": "execute_result"
    }
   ],
   "source": [
    "50*A[1:2]/10. + A[2:3]"
   ]
  },
  {
   "cell_type": "code",
   "execution_count": 87,
   "metadata": {
    "collapsed": true
   },
   "outputs": [],
   "source": [
    "A = np.array([[8,7/2.,0,1,-1/2.,0,3/2.],\n",
    "             [4/10.,7/10.,1,0,1/10.,0,7/10.],\n",
    "             [-20,-14,0,0,5,1,35]])"
   ]
  },
  {
   "cell_type": "code",
   "execution_count": 88,
   "metadata": {
    "collapsed": false
   },
   "outputs": [
    {
     "data": {
      "text/plain": [
       "array([[  8. ,   3.5,   0. ,   1. ,  -0.5,   0. ,   1.5],\n",
       "       [  0.4,   0.7,   1. ,   0. ,   0.1,   0. ,   0.7],\n",
       "       [-20. , -14. ,   0. ,   0. ,   5. ,   1. ,  35. ]])"
      ]
     },
     "execution_count": 88,
     "metadata": {},
     "output_type": "execute_result"
    }
   ],
   "source": [
    "A"
   ]
  },
  {
   "cell_type": "code",
   "execution_count": 89,
   "metadata": {
    "collapsed": false
   },
   "outputs": [
    {
     "data": {
      "text/plain": [
       "array([ 0.1875,  1.75  ])"
      ]
     },
     "execution_count": 89,
     "metadata": {},
     "output_type": "execute_result"
    }
   ],
   "source": [
    "A[0:-1,-1]/A[0:-1,0]"
   ]
  },
  {
   "cell_type": "code",
   "execution_count": 90,
   "metadata": {
    "collapsed": true
   },
   "outputs": [],
   "source": [
    "A[0:1] = A[0:1]/8."
   ]
  },
  {
   "cell_type": "code",
   "execution_count": 91,
   "metadata": {
    "collapsed": false
   },
   "outputs": [
    {
     "data": {
      "text/plain": [
       "array([[  1.    ,   0.4375,   0.    ,   0.125 ,  -0.0625,   0.    ,\n",
       "          0.1875],\n",
       "       [  0.4   ,   0.7   ,   1.    ,   0.    ,   0.1   ,   0.    ,   0.7   ],\n",
       "       [-20.    , -14.    ,   0.    ,   0.    ,   5.    ,   1.    ,  35.    ]])"
      ]
     },
     "execution_count": 91,
     "metadata": {},
     "output_type": "execute_result"
    }
   ],
   "source": [
    "A"
   ]
  },
  {
   "cell_type": "code",
   "execution_count": 92,
   "metadata": {
    "collapsed": false
   },
   "outputs": [
    {
     "data": {
      "image/png": "[encoded data removed]",
      "text/latex": [
       "$$0.4375$$"
      ],
      "text/plain": [
       "0.4375"
      ]
     },
     "execution_count": 92,
     "metadata": {},
     "output_type": "execute_result"
    }
   ],
   "source": [
    "7/16."
   ]
  },
  {
   "cell_type": "code",
   "execution_count": 93,
   "metadata": {
    "collapsed": true
   },
   "outputs": [],
   "source": [
    "A[1:2] = A[1:2] - 4/10.*A[0:1]"
   ]
  },
  {
   "cell_type": "code",
   "execution_count": 94,
   "metadata": {
    "collapsed": false
   },
   "outputs": [
    {
     "data": {
      "text/plain": [
       "array([[  1.    ,   0.4375,   0.    ,   0.125 ,  -0.0625,   0.    ,\n",
       "          0.1875],\n",
       "       [  0.    ,   0.525 ,   1.    ,  -0.05  ,   0.125 ,   0.    ,   0.625 ],\n",
       "       [-20.    , -14.    ,   0.    ,   0.    ,   5.    ,   1.    ,  35.    ]])"
      ]
     },
     "execution_count": 94,
     "metadata": {},
     "output_type": "execute_result"
    }
   ],
   "source": [
    "A"
   ]
  },
  {
   "cell_type": "code",
   "execution_count": 95,
   "metadata": {
    "collapsed": true
   },
   "outputs": [],
   "source": [
    "A2 = A"
   ]
  },
  {
   "cell_type": "code",
   "execution_count": 96,
   "metadata": {
    "collapsed": true
   },
   "outputs": [],
   "source": [
    "A2[2:3] = A2[2:3] + 20.*A2[0:1]"
   ]
  },
  {
   "cell_type": "code",
   "execution_count": 97,
   "metadata": {
    "collapsed": false
   },
   "outputs": [
    {
     "data": {
      "text/plain": [
       "array([[  1.    ,   0.4375,   0.    ,   0.125 ,  -0.0625,   0.    ,\n",
       "          0.1875],\n",
       "       [  0.    ,   0.525 ,   1.    ,  -0.05  ,   0.125 ,   0.    ,   0.625 ],\n",
       "       [  0.    ,  -5.25  ,   0.    ,   2.5   ,   3.75  ,   1.    ,  38.75  ]])"
      ]
     },
     "execution_count": 97,
     "metadata": {},
     "output_type": "execute_result"
    }
   ],
   "source": [
    "A2"
   ]
  },
  {
   "cell_type": "code",
   "execution_count": 98,
   "metadata": {
    "collapsed": false
   },
   "outputs": [
    {
     "data": {
      "text/plain": [
       "array([ 0.42857143,  1.19047619])"
      ]
     },
     "execution_count": 98,
     "metadata": {},
     "output_type": "execute_result"
    }
   ],
   "source": [
    "A2[0:-1,-1]/A[0:-1,1]"
   ]
  },
  {
   "cell_type": "code",
   "execution_count": 99,
   "metadata": {
    "collapsed": false
   },
   "outputs": [],
   "source": [
    "A3 = A2"
   ]
  },
  {
   "cell_type": "code",
   "execution_count": 100,
   "metadata": {
    "collapsed": true
   },
   "outputs": [],
   "source": [
    "A3[0:1] = A3[0:1]/0.4375"
   ]
  },
  {
   "cell_type": "code",
   "execution_count": 101,
   "metadata": {
    "collapsed": false
   },
   "outputs": [
    {
     "data": {
      "text/plain": [
       "array([[  2.28571429,   1.        ,   0.        ,   0.28571429,\n",
       "         -0.14285714,   0.        ,   0.42857143],\n",
       "       [  0.        ,   0.525     ,   1.        ,  -0.05      ,\n",
       "          0.125     ,   0.        ,   0.625     ],\n",
       "       [  0.        ,  -5.25      ,   0.        ,   2.5       ,\n",
       "          3.75      ,   1.        ,  38.75      ]])"
      ]
     },
     "execution_count": 101,
     "metadata": {},
     "output_type": "execute_result"
    }
   ],
   "source": [
    "A3"
   ]
  },
  {
   "cell_type": "code",
   "execution_count": 102,
   "metadata": {
    "collapsed": true
   },
   "outputs": [],
   "source": [
    "A3[1:2] = A3[1:2] - 0.525*A3[0:1]"
   ]
  },
  {
   "cell_type": "code",
   "execution_count": 103,
   "metadata": {
    "collapsed": false
   },
   "outputs": [
    {
     "data": {
      "text/plain": [
       "array([[  2.28571429e+00,   1.00000000e+00,   0.00000000e+00,\n",
       "          2.85714286e-01,  -1.42857143e-01,   0.00000000e+00,\n",
       "          4.28571429e-01],\n",
       "       [ -1.20000000e+00,  -1.11022302e-16,   1.00000000e+00,\n",
       "         -2.00000000e-01,   2.00000000e-01,   0.00000000e+00,\n",
       "          4.00000000e-01],\n",
       "       [  0.00000000e+00,  -5.25000000e+00,   0.00000000e+00,\n",
       "          2.50000000e+00,   3.75000000e+00,   1.00000000e+00,\n",
       "          3.87500000e+01]])"
      ]
     },
     "execution_count": 103,
     "metadata": {},
     "output_type": "execute_result"
    }
   ],
   "source": [
    "A3"
   ]
  },
  {
   "cell_type": "code",
   "execution_count": 104,
   "metadata": {
    "collapsed": true
   },
   "outputs": [],
   "source": [
    "A3[2:3] = A3[2:3] +5.25*A3[0:1]"
   ]
  },
  {
   "cell_type": "code",
   "execution_count": 105,
   "metadata": {
    "collapsed": false
   },
   "outputs": [
    {
     "data": {
      "text/plain": [
       "array([[  2.28571429e+00,   1.00000000e+00,   0.00000000e+00,\n",
       "          2.85714286e-01,  -1.42857143e-01,   0.00000000e+00,\n",
       "          4.28571429e-01],\n",
       "       [ -1.20000000e+00,  -1.11022302e-16,   1.00000000e+00,\n",
       "         -2.00000000e-01,   2.00000000e-01,   0.00000000e+00,\n",
       "          4.00000000e-01],\n",
       "       [  1.20000000e+01,   0.00000000e+00,   0.00000000e+00,\n",
       "          4.00000000e+00,   3.00000000e+00,   1.00000000e+00,\n",
       "          4.10000000e+01]])"
      ]
     },
     "execution_count": 105,
     "metadata": {},
     "output_type": "execute_result"
    }
   ],
   "source": [
    "A3"
   ]
  },
  {
   "cell_type": "code",
   "execution_count": 106,
   "metadata": {
    "collapsed": true
   },
   "outputs": [],
   "source": [
    "np.set_printoptions(precision=3)"
   ]
  },
  {
   "cell_type": "code",
   "execution_count": 107,
   "metadata": {
    "collapsed": false
   },
   "outputs": [
    {
     "data": {
      "text/plain": [
       "array([[  2.286e+00,   1.000e+00,   0.000e+00,   2.857e-01,  -1.429e-01,\n",
       "          0.000e+00,   4.286e-01],\n",
       "       [ -1.200e+00,  -1.110e-16,   1.000e+00,  -2.000e-01,   2.000e-01,\n",
       "          0.000e+00,   4.000e-01],\n",
       "       [  1.200e+01,   0.000e+00,   0.000e+00,   4.000e+00,   3.000e+00,\n",
       "          1.000e+00,   4.100e+01]])"
      ]
     },
     "execution_count": 107,
     "metadata": {},
     "output_type": "execute_result"
    }
   ],
   "source": [
    "A3"
   ]
  },
  {
   "cell_type": "code",
   "execution_count": null,
   "metadata": {
    "collapsed": true
   },
   "outputs": [],
   "source": []
  }
 ],
 "metadata": {
  "kernelspec": {
   "display_name": "Python 2",
   "language": "python",
   "name": "python2"
  },
  "language_info": {
   "codemirror_mode": {
    "name": "ipython",
    "version": 2
   },
   "file_extension": ".py",
   "mimetype": "text/x-python",
   "name": "python",
   "nbconvert_exporter": "python",
   "pygments_lexer": "ipython2",
   "version": "2.7.10"
  }
 },
 "nbformat": 4,
 "nbformat_minor": 0
}
