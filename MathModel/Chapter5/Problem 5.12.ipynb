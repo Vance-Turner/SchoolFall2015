{
 "cells": [
  {
   "cell_type": "markdown",
   "metadata": {},
   "source": [
    "**Math Modeling**\n",
    "\n",
    "**Chapter 5 #5.12**\n",
    "\n",
    "**Vance Turnewitsch**"
   ]
  },
  {
   "cell_type": "markdown",
   "metadata": {},
   "source": [
    "To each primal linear programming problem: $\\textrm{ minimize }J(x)=c^Tx$ subject to the constraints $Ax \\geq b, x\\geq 0$, there can be the associated dual problem: $\\textrm{ maximize }J^*(y)=b^Ty$ subject to the constraints: $A^Ty\\leq c, y\\geq 0$"
   ]
  },
  {
   "cell_type": "markdown",
   "metadata": {},
   "source": [
    "Prove that if $x,y$ are feasible for their respective problems, satisfy their respective constraints, then: \n",
    "\n",
    "$$J^*(y)\\leq J(x)$$"
   ]
  },
  {
   "cell_type": "markdown",
   "metadata": {},
   "source": [
    "**Proof**:\n",
    "\n",
    "Given $A^Ty\\leq c$ then: $(A^Ty)^T\\leq c^T \\rightarrow y^TA\\leq c^T$\n",
    "\n",
    "Then since $x\\geq 0$ then $y^TAx\\leq c^Tx$"
   ]
  },
  {
   "cell_type": "markdown",
   "metadata": {},
   "source": [
    "Now observe similarly:\n",
    "\n",
    "$$Ax\\geq b$$\n",
    "$$y^Tb\\leq y^TAx$$\n",
    "\n",
    "And be transitivity:\n",
    "\n",
    "$$y^Tb \\leq c^Tx$$"
   ]
  },
  {
   "cell_type": "markdown",
   "metadata": {},
   "source": [
    "Finally we show that: $y^Tb=b^Ty$:\n",
    "\n",
    "Assume not, that is assume $b^Ty-y^Tb = \\alpha$ where $\\alpha >0$ or $\\alpha <0$\n",
    "\n",
    "But by rules of the transpose: $$(b^Ty-y^Tb)^T=(b^Ty)^T-(y^Tb)^T$$\n",
    "\n",
    "$$=y^Tb-b^Ty$$\n",
    "\n",
    "Thus: $$y^Tb-b^Ty= \\alpha^T$$\n",
    "\n",
    "But observe that $y^Tb\\in \\mathbb R$ and $b^Ty\\in \\mathbb R$ thus $y^Tb-b^Ty\\in \\mathbb R$ and thus $\\alpha=\\alpha^T$"
   ]
  },
  {
   "cell_type": "markdown",
   "metadata": {},
   "source": [
    "Thus we can add equalities:\n",
    "$$(b^Ty-y^Tb)+(y^Tb-b^Ty)= \\alpha+\\alpha^T$$\n",
    "$$(b^Ty-b^Ty)+(-y^Tb+y^Tb)= 2\\alpha$$\n",
    "$$0= 2\\alpha$$\n",
    "$$0=\\alpha$$\n",
    "\n",
    "But oh no! $\\alpha >0$ or $\\alpha<0$! Thus, by a contradiction we have shown: $y^Tb=b^Ty$"
   ]
  },
  {
   "cell_type": "markdown",
   "metadata": {},
   "source": [
    "Thus, we simply substitute:\n",
    "\n",
    "$$y^Tb\\leq c^Tx \\rightarrow b^Ty\\leq c^Tx$$\n",
    "\n",
    "And finally:\n",
    "$$J^*(y)\\leq J(x)$$"
   ]
  }
 ],
 "metadata": {
  "kernelspec": {
   "display_name": "Python 2",
   "language": "python",
   "name": "python2"
  },
  "language_info": {
   "codemirror_mode": {
    "name": "ipython",
    "version": 2
   },
   "file_extension": ".py",
   "mimetype": "text/x-python",
   "name": "python",
   "nbconvert_exporter": "python",
   "pygments_lexer": "ipython2",
   "version": "2.7.10"
  }
 },
 "nbformat": 4,
 "nbformat_minor": 0
}
