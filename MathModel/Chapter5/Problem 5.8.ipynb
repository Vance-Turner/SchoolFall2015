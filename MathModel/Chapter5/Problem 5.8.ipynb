{
 "cells": [
  {
   "cell_type": "markdown",
   "metadata": {},
   "source": [
    "**Math Modeling**\n",
    "\n",
    "**Vance Turnewitsch**\n",
    "\n",
    "**Chapter 5 #5.8 AND #5.16**"
   ]
  },
  {
   "cell_type": "markdown",
   "metadata": {},
   "source": [
    "Minimize: $5x_1 + 7x_2$\n",
    "\n",
    "Subject to:\n",
    "\n",
    "$$10x_1+4x_2 \\geq 40$$\n",
    "\n",
    "$$7x_1+7x_2\\geq 49$$\n",
    "\n",
    "$$5x_1+10x_2\\geq 50$$"
   ]
  },
  {
   "cell_type": "markdown",
   "metadata": {},
   "source": [
    "We convert to the dual maximization problem so that we can solve with simplex:\n",
    "\n",
    "$A=\\left( \\begin{array}{cc}\n",
    "10 & 4 \\\\\n",
    "7 & 7 \\\\\n",
    "5 & 10 \\\\ \\end{array}\\right)$ thus $A^T=\\left( \\begin{array}{ccc}\n",
    "10 & 7 & 5 \\\\\n",
    "4 & 7 & 10 \\\\\n",
    "\\end{array}\\right)$"
   ]
  },
  {
   "cell_type": "markdown",
   "metadata": {},
   "source": [
    "$c^T=\\left(5,7\\right)$ thus $c=\\left(\\begin{array}{c}\n",
    "5\\\\\n",
    "7\\\\ \\end{array}\\right)$"
   ]
  },
  {
   "cell_type": "markdown",
   "metadata": {},
   "source": [
    "$b=\\left(\\begin{array}{c}\n",
    "40\\\\\n",
    "49\\\\\n",
    "50\\\\ \\end{array}\\right)$ thus $b^T=\\left( \\begin{array}{ccc}\n",
    "40 & 49 & 50 \\\\\n",
    "\\end{array}\\right)$"
   ]
  },
  {
   "cell_type": "markdown",
   "metadata": {},
   "source": [
    "Thus: $y=\\left(\\begin{array}{c}\n",
    "y_1 \\\\\n",
    "y_2 \\\\\n",
    "y_3 \\\\ \\end{array} \\right)$"
   ]
  },
  {
   "cell_type": "markdown",
   "metadata": {},
   "source": [
    "Maximize: $F=40y_1 + 49y_2 + 50y_3$\n",
    "\n",
    "Subject to:\n",
    "\n",
    "$$10y_1+7y_2 +5y_3\\leq 5$$\n",
    "\n",
    "$$4y_1 + 7y_2 + 10y_3\\leq 7$$"
   ]
  },
  {
   "cell_type": "markdown",
   "metadata": {},
   "source": [
    " We thus introduce $m,n$ to get:\n",
    " \n",
    "$$10y_1+7y_2+5y_3+m=5$$\n",
    "$$4y_1+7y_2+10y_3+n=7$$"
   ]
  },
  {
   "cell_type": "markdown",
   "metadata": {},
   "source": [
    "We thus have the following problem:\n",
    "\n",
    "$$10y_1+7y_2+5y_3+m=5$$\n",
    "$$4y_1+7y_2+10y_3+n=7$$\n",
    "$$F-40y_1 - 49y_2 - 50y_3=0$$"
   ]
  },
  {
   "cell_type": "markdown",
   "metadata": {},
   "source": [
    "Thus we have the Tableau:\n",
    "\n",
    "$A=\\left(\\begin{array}{ccccccc}\n",
    "10 & 7 & 5 & 1 & 0 & 0 & 5 \\\\\n",
    "4 & 7 & 10 & 0 & 1 & 0 & 7 \\\\\n",
    "-40 & -49 & -50 & 0 & 0 & 1 & 0 \\\\\n",
    "\\end{array}\\right)$"
   ]
  },
  {
   "cell_type": "markdown",
   "metadata": {},
   "source": [
    "Thus: $5/5=1, 7/10=0.7$ so we use $A_{2,3}$ to pivot and get. First we normalize $A_{2,3}$"
   ]
  },
  {
   "cell_type": "markdown",
   "metadata": {},
   "source": [
    "$R_2/10 \\rightarrow R_2 : A=\\left(\\begin{array}{ccccccc}\n",
    "10 & 7 & 5 & 1 & 0 & 0 & 5 \\\\\n",
    "4/10 & 7/10 & 1 & 0 & 1/10 & 0 & 7/10 \\\\\n",
    "-40 & -49 & -50 & 0 & 0 & 1 & 0 \\\\\n",
    "\\end{array}\\right)$"
   ]
  },
  {
   "cell_type": "markdown",
   "metadata": {},
   "source": [
    "$\\begin{array}{c}\n",
    "-5R_2 + R_1 \\rightarrow R_1 \\\\\n",
    "50R_2 + R_3 \\rightarrow R_3 \\\\ \\end{array} :A=\\left(\\begin{array}{ccccccc}\n",
    "8 & 7/2 & 0 & 1 & -1/2 & 0 & 3/2 \\\\\n",
    "4/10 & 7/10 & 1 & 0 & 1/10 & 0 & 7/10 \\\\\n",
    "-20 & -14 & 0 & 0 & 5 & 1 & 35 \\\\\n",
    "\\end{array}\\right)$"
   ]
  },
  {
   "cell_type": "markdown",
   "metadata": {},
   "source": [
    "$(3/2)/8=3/16, (7/10)/(4/10)=7/4$ Thus pivot about: $A_{1,1}$ First normalize $R_1$"
   ]
  },
  {
   "cell_type": "markdown",
   "metadata": {},
   "source": [
    "$\\begin{array}{c}\n",
    "R_1/8 \\rightarrow R_1 \\end{array} :A=\\left(\\begin{array}{ccccccc}\n",
    "1 & 7/16 & 0 & 1/8 & -1/16 & 0 & 3/16 \\\\\n",
    "4/10 & 7/10 & 1 & 0 & 1/10 & 0 & 7/10 \\\\\n",
    "-20 & -14 & 0 & 0 & 5 & 1 & 35 \\\\\n",
    "\\end{array}\\right)$"
   ]
  },
  {
   "cell_type": "markdown",
   "metadata": {},
   "source": [
    "$\\begin{array}{c}\n",
    "R_1/8 \\rightarrow R_1 \\end{array} :A=\\left(\\begin{array}{ccccccc}\n",
    "1 & 7/16 & 0 & 1/8 & -1/16 & 0 & 3/16 \\\\\n",
    "4/10 & 7/10 & 1 & 0 & 1/10 & 0 & 7/10 \\\\\n",
    "-20 & -14 & 0 & 0 & 5 & 1 & 35 \\\\\n",
    "\\end{array}\\right)$"
   ]
  },
  {
   "cell_type": "markdown",
   "metadata": {
    "collapsed": true
   },
   "source": [
    "$\\begin{array}{c}\n",
    "(-4/10)R_1+R_2 \\rightarrow R_2\\\\\n",
    "20R_1+R_3\\rightarrow R_3\\end{array} :A=\\left(\\begin{array}{ccccccc}\n",
    "1 & 7/16 & 0 & 1/8 & -1/16 & 0 & 3/16 \\\\\n",
    "0 & 21/40 & 1 & -1/20 & 1/8 & 0 & 5/8 \\\\\n",
    "0 & -21/4 & 0 & 5/2 & 15/4 & 1 & 155/4 \\\\\n",
    "\\end{array}\\right)$"
   ]
  },
  {
   "cell_type": "markdown",
   "metadata": {},
   "source": [
    "$(3/16)/(7/16)=3/7, (5/8)/(21/40)=25/21$ thus pivot about $A_{1,2}$ but first normalize:"
   ]
  },
  {
   "cell_type": "markdown",
   "metadata": {},
   "source": [
    "$\\begin{array}{c}\n",
    "(16/7)R_1 \\rightarrow R_1\\end{array} :A=\\left(\\begin{array}{ccccccc}\n",
    "16/7 & 1 & 0 & 2/7 & -1/7 & 0 & 3/7 \\\\\n",
    "0 & 21/40 & 1 & -1/20 & 1/8 & 0 & 5/8 \\\\\n",
    "0 & -21/4 & 0 & 5/2 & 15/4 & 1 & 155/4 \\\\\n",
    "\\end{array}\\right)$"
   ]
  },
  {
   "cell_type": "markdown",
   "metadata": {},
   "source": [
    "$\\begin{array}{c}\n",
    "(-21/40)R_1 +R_2 \\rightarrow R_2 \\\\\n",
    "(21/4)R_1 + R_3 \\rightarrow R_3\\end{array} :A=\\left(\\begin{array}{ccccccc}\n",
    "16/7 & 1 & 0 & 2/7 & -1/7 & 0 & 3/7 \\\\\n",
    "-6/5 & 0 & 1 & -1/5 & 1/5 & 0 & 2/5 \\\\\n",
    "12 & 0 & 0 & 4 & 3 & 1 & 41 \\\\\n",
    "\\end{array}\\right)$"
   ]
  },
  {
   "cell_type": "markdown",
   "metadata": {},
   "source": [
    "Thus the maximum of F is $41$. Our introduced slack variables correspond to the original $x_1, x_2$.\n",
    "\n",
    "Thus: $x_1=4$ and $x_2=3$"
   ]
  },
  {
   "cell_type": "markdown",
   "metadata": {},
   "source": [
    "## 5.16 Units\n",
    "\n",
    "The units in the dual problem were: $$y_1=\\frac{X_1\\textrm{\\$}}{E_1}$$\n",
    "\n",
    "$$y_1=\\frac{X_2\\textrm{\\$}}{E_2}$$\n",
    "\n",
    "$$y_1=\\frac{X_3\\textrm{\\$}}{E_3}$$"
   ]
  }
 ],
 "metadata": {
  "kernelspec": {
   "display_name": "Python 2",
   "language": "python",
   "name": "python2"
  },
  "language_info": {
   "codemirror_mode": {
    "name": "ipython",
    "version": 2
   },
   "file_extension": ".py",
   "mimetype": "text/x-python",
   "name": "python",
   "nbconvert_exporter": "python",
   "pygments_lexer": "ipython2",
   "version": "2.7.10"
  }
 },
 "nbformat": 4,
 "nbformat_minor": 0
}
