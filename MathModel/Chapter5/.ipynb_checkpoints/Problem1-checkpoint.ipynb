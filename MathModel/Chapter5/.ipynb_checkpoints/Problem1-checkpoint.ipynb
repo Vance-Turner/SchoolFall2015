{
 "metadata": {
  "name": "",
  "signature": "sha256:25812df9b52793d840a5123956353587068ad184aa12369ad97f706a4df97352"
 },
 "nbformat": 3,
 "nbformat_minor": 0,
 "worksheets": [
  {
   "cells": [
    {
     "cell_type": "markdown",
     "metadata": {},
     "source": [
      "**Mathematical Modeling**\n",
      "\n",
      "**Homework Chapter 5  #1**\n",
      "\n",
      "**Vance Turnewitsch**"
     ]
    },
    {
     "cell_type": "markdown",
     "metadata": {},
     "source": [
      "We begin by declaring variables for the four raw food materials: $a,b,c,d$ which correspond to Items 1,2,3,4.\n",
      "\n",
      "And three variables for fiber, fat, and sugar: $F,A,S$"
     ]
    },
    {
     "cell_type": "markdown",
     "metadata": {},
     "source": [
      "Observe that: $F=10\\%*1000=100$, $A=2\\%*1000=20$ and $S=5\\%*1000=50$"
     ]
    },
    {
     "cell_type": "code",
     "collapsed": false,
     "input": [
      "0.05*1000"
     ],
     "language": "python",
     "metadata": {},
     "outputs": [
      {
       "metadata": {},
       "output_type": "pyout",
       "prompt_number": 1,
       "text": [
        "50.0"
       ]
      }
     ],
     "prompt_number": 1
    },
    {
     "cell_type": "code",
     "collapsed": false,
     "input": [
      "0.02*1000"
     ],
     "language": "python",
     "metadata": {},
     "outputs": [
      {
       "metadata": {},
       "output_type": "pyout",
       "prompt_number": 2,
       "text": [
        "20.0"
       ]
      }
     ],
     "prompt_number": 2
    },
    {
     "cell_type": "code",
     "collapsed": false,
     "input": [
      "0.1*1000"
     ],
     "language": "python",
     "metadata": {},
     "outputs": [
      {
       "metadata": {},
       "output_type": "pyout",
       "prompt_number": 3,
       "text": [
        "100.0"
       ]
      }
     ],
     "prompt_number": 3
    },
    {
     "cell_type": "code",
     "collapsed": false,
     "input": [],
     "language": "python",
     "metadata": {},
     "outputs": []
    }
   ],
   "metadata": {}
  }
 ]
}