{
 "cells": [
  {
   "cell_type": "markdown",
   "metadata": {},
   "source": [
    "**Problem 8.5**"
   ]
  },
  {
   "cell_type": "markdown",
   "metadata": {},
   "source": [
    "We work on the system:\n",
    "\n",
    "$$x'=x^2+y$$\n",
    "\n",
    "$$y'=x-y+a$$"
   ]
  },
  {
   "cell_type": "markdown",
   "metadata": {},
   "source": [
    "### A\n",
    "\n",
    "We search for: $0=x^2+y$ and $0=x-y+a$\n",
    "\n",
    "We have then: $y=-x^2$ and thus $0=x+x^2+a \\rightarrow 0=x^2+x+a \\rightarrow x=\\frac{-1\\pm \\sqrt{1-4a}}{2}$\n"
   ]
  },
  {
   "cell_type": "markdown",
   "metadata": {},
   "source": [
    "Thus: $y=-x^2=-(\\frac{-1\\pm \\sqrt{1-4a}}{2})^2=\\frac{\\pm2\\sqrt{1-4a}+4a-2}{4}$"
   ]
  },
  {
   "cell_type": "markdown",
   "metadata": {},
   "source": [
    "Our equilibrium solutions are thus:\n",
    "\n",
    "$$\\left[\\begin{array}{c}\n",
    "\\frac{-1+\\sqrt{1-4a}}{2}\\\\\n",
    "\\frac{2\\sqrt{1-4a}+4a-2}{4}\\\\ \\end{array}\\right]$$\n",
    "\n",
    "$$\\left[\\begin{array}{c}\n",
    "\\frac{-1-\\sqrt{1-4a}}{2}\\\\\n",
    "\\frac{-2\\sqrt{1-4a}+4a-2}{4}\\\\ \\end{array}\\right]$$"
   ]
  },
  {
   "cell_type": "markdown",
   "metadata": {},
   "source": [
    "We now compute the linearization: $DF=\\left[\\begin{array}{cc}\n",
    "2x & 1 \\\\\n",
    "1 & -1 \\\\ \\end{array}\\right]$ and thus:\n",
    "\n",
    "$DF_{0,1}=\\left[\\begin{array}{cc}\n",
    "-1+\\sqrt{1-4a}  & 1\\\\\n",
    "1 & -1\n",
    "\\end{array}\\right]$\n",
    "\n",
    "$DF_{0,2}=\\left[\\begin{array}{cc}\n",
    "-1-\\sqrt{1-4a} & 1 \\\\\n",
    "1 & -1 \\\\\n",
    "\\end{array}\\right]$"
   ]
  },
  {
   "cell_type": "markdown",
   "metadata": {},
   "source": [
    "For the equilibrium point: \n",
    "\n",
    "$$\\left[\\begin{array}{c}\n",
    "\\frac{-1+\\sqrt{1-4a}}{2}\\\\\n",
    "\\frac{2\\sqrt{1-4a}+4a-2}{4}\\\\ \\end{array}\\right]$$\n",
    "\n",
    "The linearized system is:\n",
    "\n",
    "$$x'=(-1+\\sqrt{1-4a})x+y$$\n",
    "$$y'=x-y$$\n",
    "\n",
    "For the equilibrium point:\n",
    "\n",
    "$$\\left[\\begin{array}{c}\n",
    "\\frac{-1-\\sqrt{1-4a}}{2}\\\\\n",
    "\\frac{-2\\sqrt{1-4a}+4a-2}{4}\\\\ \\end{array}\\right]$$\n",
    "\n",
    "The linearized system is:\n",
    "\n",
    "$$x'=(-1-\\sqrt{1-4a})x+y$$\n",
    "$$y'=x-y$$"
   ]
  },
  {
   "cell_type": "markdown",
   "metadata": {},
   "source": [
    "### B\n",
    "\n",
    "The eigenvalues are: $\\lambda_1=1/2\\sqrt{-4a+1}-1/2\\sqrt{-4a+5}-1$ and $\\lambda_2=1/2\\sqrt{-4a+1}+1/2\\sqrt{-4a+5}-1$ which we used a CAS to compute. Of course, we could have computed them using the characteristic equation.\n",
    "\n",
    "We see here that the system will change its behavior based on the value of $a$. We plot $a$ to help determine where this change might take place.\n",
    "\n",
    "We first observe that: $-4a+1\\geq 0 \\rightarrow a\\leq1/4$ and $-4a+5 \\geq0 \\rightarrow a \\leq 5/4$ Thus, we only search: $(-\\infty,1/4]$ and then the real part of the eigenvalues in: $a\\in[5/4,\\infty)$"
   ]
  },
  {
   "cell_type": "code",
   "execution_count": 7,
   "metadata": {
    "collapsed": true
   },
   "outputs": [],
   "source": [
    "import numpy as np\n",
    "import matplotlib.pyplot as plt\n",
    "%matplotlib inline"
   ]
  },
  {
   "cell_type": "code",
   "execution_count": 46,
   "metadata": {
    "collapsed": false
   },
   "outputs": [],
   "source": [
    "a = np.linspace(-10,1/4.,1000)\n",
    "y1 = 1/2.*np.sqrt(-4.*a+1.)-1/2.*np.sqrt(-4.*a+5.)-1. # The first eigenvalue\n",
    "y2 = 1/2.*np.sqrt(-4.*a+1.)+1/2.*np.sqrt(-4.*a+5.)-1. # The second eigenvalue\n",
    "\n",
    "a2 = np.linspace(5/4.,10,1000)\n",
    "y1R = 1/2.*np.sqrt(-(-4.*a2+1.))-1/2.*np.sqrt(-(-4.*a2+5.))-1. # The first eigenvalue, real part\n",
    "y2R = 1/2.*np.sqrt(-(-4.*a2+1.))+1/2.*np.sqrt(-(-4.*a2+5.))-1. # The second eigenvalue, real part"
   ]
  },
  {
   "cell_type": "code",
   "execution_count": 47,
   "metadata": {
    "collapsed": false
   },
   "outputs": [
    {
     "data": {
      "image/png": "[encoded data removed]",
      "text/plain": [
       "<matplotlib.figure.Figure at 0x7f9b06483050>"
      ]
     },
     "metadata": {},
     "output_type": "display_data"
    }
   ],
   "source": [
    "plt.plot(a,y1,label=u'$\\lambda_1$')\n",
    "plt.plot(a,y2,label=u'$\\lambda_2$')\n",
    "plt.plot(a2,y1R,label=u'$Real:\\lambda_1$')\n",
    "plt.plot(a2,y2R,label=u'$Real:\\lambda_2$')\n",
    "plt.xlabel('a')\n",
    "plt.ylabel(u'$\\lambda_1,\\lambda_2$')\n",
    "plt.legend()\n",
    "plt.grid()"
   ]
  },
  {
   "cell_type": "markdown",
   "metadata": {},
   "source": [
    "Thus we observe when $a\\in(-\\infty,1/4)$ than $\\lambda_2>0\\lambda_1$ which produces a saddle solution.\n",
    "\n",
    "When though $a=1/4$ then $\\lambda_2=0$ and $\\lambda_1<0$ still. Which produces a sink in one direction."
   ]
  },
  {
   "cell_type": "markdown",
   "metadata": {},
   "source": [
    "### C\n",
    "\n",
    "There is a bifurcation at $a=1/4$. \n",
    "\n",
    "When $a<1/4$ we have a saddle solution.\n",
    "\n",
    "When $a=1/4$ we have a sink.\n",
    "\n",
    "When $a>1/4$ we will have a complicated situation since the real part of $\\lambda_1$ is positive while the real part of $\\lambda_2$ is negative."
   ]
  }
 ],
 "metadata": {
  "kernelspec": {
   "display_name": "Python 2",
   "language": "python",
   "name": "python2"
  },
  "language_info": {
   "codemirror_mode": {
    "name": "ipython",
    "version": 2
   },
   "file_extension": ".py",
   "mimetype": "text/x-python",
   "name": "python",
   "nbconvert_exporter": "python",
   "pygments_lexer": "ipython2",
   "version": "2.7.10"
  }
 },
 "nbformat": 4,
 "nbformat_minor": 0
}
