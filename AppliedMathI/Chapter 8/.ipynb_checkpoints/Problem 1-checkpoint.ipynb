{
 "cells": [
  {
   "cell_type": "markdown",
   "metadata": {},
   "source": [
    "**Applied Mathematics I**\n",
    "\n",
    "**Chapter 8 #1**\n",
    "\n",
    "**Vance Turnewitsch**"
   ]
  },
  {
   "cell_type": "markdown",
   "metadata": {},
   "source": [
    "## i\n",
    "\n",
    "We work on the system: $x'=\\sin(x), y'=\\cos(y)$"
   ]
  },
  {
   "cell_type": "markdown",
   "metadata": {},
   "source": [
    "### A\n",
    "\n",
    "Thus we search for: $0=\\sin(x)$ and $0=\\cos(y)$. Thus the equilibrium solution is:\n",
    "\n",
    "$$\\left[\\begin{array}{c}\n",
    "n\\pi \\\\\n",
    "(2n+1)/2\\pi \\end{array}\\right]$$\n",
    "\n",
    "where $n=0,1,2,3...$"
   ]
  },
  {
   "cell_type": "markdown",
   "metadata": {},
   "source": [
    "Now we linearize this system: $DF=\\left(\\begin{array}{c}\n",
    "\\cos(x) & 0 \\\\\n",
    "0 & -\\sin(y) \\\\\n",
    "\\end{array}\\right)$ Thus we have multiple linearizations: $$DF_{0,0}=\\left(\\begin{array}{cc}\n",
    "1 & 0 \\\\\n",
    "0 & -1 \\\\ \\end{array}\\right)$$\n",
    "\n",
    "$$DF_{0,1}=\\left(\\begin{array}{cc}\n",
    "-1 & 0 \\\\\n",
    "0 & 1 \\\\ \\end{array}\\right)$$\n",
    "\n",
    "where $DF_{0,i}$ corresponds to the initial condition: $\\left[\\begin{array}{c}\n",
    "i\\pi \\\\\n",
    "(2i+1)/2\\pi \\end{array}\\right]$"
   ]
  },
  {
   "cell_type": "markdown",
   "metadata": {},
   "source": [
    "We thus observe for the initial condition: $\\left[\\begin{array}{c}\n",
    "\\pi \\\\\n",
    "3/2\\pi \\end{array}\\right]$ we have a **saddle** as the solution. The x-axis is the stable line and y-axis as the unstable line.\n",
    "\n",
    "For the initial condition: $\\left[\\begin{array}{c}\n",
    "0 \\\\\n",
    "1/2\\pi \\end{array}\\right]$ we have also a **saddle** solution. This time though the stable line is the y-axis and the unstable line is the x-axis."
   ]
  },
  {
   "cell_type": "markdown",
   "metadata": {},
   "source": [
    "### C\n",
    "The real parts of the eigenvalues are all nonzero; thus by the Linearization Theorem, the linear flow is accurate, locally."
   ]
  },
  {
   "cell_type": "markdown",
   "metadata": {},
   "source": [
    "### iii\n",
    "\n",
    "We work on the system: $x'=x+y^2, y'=2y$"
   ]
  },
  {
   "cell_type": "markdown",
   "metadata": {},
   "source": [
    "### A\n",
    "\n",
    "We search for: $0=x+y^2$ and $0=2y$ Thus. $y=0$ and $x=0$. Our equilibrium solution is thus: $[0,0]^T$"
   ]
  },
  {
   "cell_type": "markdown",
   "metadata": {},
   "source": [
    "Now we linearize this system: $DF=\\left(\\begin{array}{cc}\n",
    "1 & 2y \\\\\n",
    "0 & 2 \\\\ \\end{array}\\right)$ and thus: $DF_0=\\left(\\begin{array}{cc}\n",
    "1 & 0 \\\\\n",
    "0 & 2 \\\\ \\end{array}\\right)$"
   ]
  },
  {
   "cell_type": "markdown",
   "metadata": {},
   "source": [
    "We thus claim that we have a **source** for the linearized solution."
   ]
  },
  {
   "cell_type": "markdown",
   "metadata": {},
   "source": [
    "### C\n",
    "The real parts of the eigenvalues are all nonzero; thus by the Linearization Theorem, the linear flow is accurate, locally."
   ]
  },
  {
   "cell_type": "markdown",
   "metadata": {},
   "source": [
    "### iv\n",
    "\n",
    "We work on the system: $x'=y^2$ and $y'=y$\n",
    "\n",
    "### A\n",
    "\n",
    "We search for: $0=y^2$ and $0=y$ Thus our equilibrium solution is: $[\\alpha,0]^T$ where $\\alpha\\in \\mathbb R$"
   ]
  },
  {
   "cell_type": "markdown",
   "metadata": {},
   "source": [
    "Now we linear this system: $DF=\\left(\\begin{array}{cc}\n",
    "0 & 2y \\\\\n",
    "0 & 1 \\\\ \\end{array}\\right)$ thus: $DF_0=\\left(\\begin{array}{cc}\n",
    "0 & 0 \\\\\n",
    "0 & 1 \\\\ \\end{array}\\right)$\n",
    "\n",
    "Thus, the system exponentially goes to infinity in the y-direction but does not change in the x-direction."
   ]
  },
  {
   "cell_type": "markdown",
   "metadata": {},
   "source": [
    "### C\n",
    "The system is not locally accurate. One of the eigenvalues is zero."
   ]
  }
 ],
 "metadata": {
  "kernelspec": {
   "display_name": "Python 2",
   "language": "python",
   "name": "python2"
  },
  "language_info": {
   "codemirror_mode": {
    "name": "ipython",
    "version": 2
   },
   "file_extension": ".py",
   "mimetype": "text/x-python",
   "name": "python",
   "nbconvert_exporter": "python",
   "pygments_lexer": "ipython2",
   "version": "2.7.10"
  }
 },
 "nbformat": 4,
 "nbformat_minor": 0
}
