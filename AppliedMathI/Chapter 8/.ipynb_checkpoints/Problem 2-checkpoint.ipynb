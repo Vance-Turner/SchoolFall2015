{
 "cells": [
  {
   "cell_type": "markdown",
   "metadata": {},
   "source": [
    "**Problem 8.2**"
   ]
  },
  {
   "cell_type": "markdown",
   "metadata": {},
   "source": [
    "We work on the system: $x'=x+y^2, y'=-y, z'=-z+y^2$"
   ]
  },
  {
   "cell_type": "markdown",
   "metadata": {},
   "source": [
    "Thus we see: $y(t)=y_0e^{-t}$\n",
    "\n",
    "Substituting into $x'=x+y_0^2e^{-2t}$\n",
    "\n",
    "And thus (from the notes): $x=(x_0+\\frac{y_0^2}{3})e^t-\\frac{y_0^2}{3}e^{-2t}$\n",
    "\n",
    "And thus we guess: $z=a(z_0+\\frac{y_0^2}{3})e^{dt}-b\\frac{y_0^2}{3}e^{-2tc}$\n"
   ]
  },
  {
   "cell_type": "markdown",
   "metadata": {},
   "source": [
    "And check: $z'=ad(z_0+\\frac{y_0^2}{3})e^{td}+bc\\frac{2y_0^2}{3}e^{-2tc}$\n",
    "\n",
    "while: $-z+y^2=-a(z_0+\\frac{y_0^2}{3})e^{dt}+b\\frac{y_0^2}{3}e^{-2tc}+y_0^2e^{-2t}$"
   ]
  },
  {
   "cell_type": "markdown",
   "metadata": {},
   "source": [
    "Thus we must have: $ad=-a$ and $2b/3=b/3+1$"
   ]
  },
  {
   "cell_type": "markdown",
   "metadata": {},
   "source": [
    "Which gives: $d=-1$ and $1/3b=1 \\rightarrow b=3$"
   ]
  },
  {
   "cell_type": "markdown",
   "metadata": {},
   "source": [
    "Our solution is thus: $z=(z_0+y_0^2/3)e^{-t}-y_0^2e^{-2t}$"
   ]
  },
  {
   "cell_type": "markdown",
   "metadata": {},
   "source": [
    "Our solution system is thus: $\\begin{cases}\n",
    "x(t)=(x_0+\\frac{y_0^2}{3})e^t-\\frac{y_0^2}{3}e^{-2t}\\\\\n",
    "y(t)=y_0e^{-t}\\\\\n",
    "z(t)=(z_0+y_0^2/3)e^{-t}-y_0^2e^{-2t}\\\\ \\end{cases}$"
   ]
  },
  {
   "cell_type": "markdown",
   "metadata": {},
   "source": [
    "Our stable manifold is thus: $x_0+\\frac{y_0^2}{3}=0$"
   ]
  },
  {
   "cell_type": "markdown",
   "metadata": {},
   "source": [
    "On this curve, the system becomes:\n",
    "\n",
    "$\\begin{cases}\n",
    "x(t)=-\\frac{y_0^2}{3}e^{-2t}\\\\\n",
    "y(t)=y_0e^{-t}\\\\\n",
    "z(t)=(z_0+y_0^2/3)e^{-t}-y_0^2e^{-2t}\\\\ \\end{cases}$\n",
    "\n",
    "which tends toward: $[0,0,0]^T$"
   ]
  }
 ],
 "metadata": {
  "kernelspec": {
   "display_name": "Python 2",
   "language": "python",
   "name": "python2"
  },
  "language_info": {
   "codemirror_mode": {
    "name": "ipython",
    "version": 2
   },
   "file_extension": ".py",
   "mimetype": "text/x-python",
   "name": "python",
   "nbconvert_exporter": "python",
   "pygments_lexer": "ipython2",
   "version": "2.7.10"
  }
 },
 "nbformat": 4,
 "nbformat_minor": 0
}
