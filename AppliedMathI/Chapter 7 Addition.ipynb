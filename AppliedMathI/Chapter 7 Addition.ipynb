{
 "cells": [
  {
   "cell_type": "markdown",
   "metadata": {},
   "source": [
    "**Applied Mathematics I**\n",
    "\n",
    "**Vance Turnewitsch**\n",
    "\n",
    "**Chapter 7 Additional Homework**"
   ]
  },
  {
   "cell_type": "markdown",
   "metadata": {},
   "source": [
    "Find and solve the variational equations for $X'=F(X)$\n",
    "\n",
    "## 1 $F=(x^2 + xy,x+y^3), X=(-1,1)$"
   ]
  },
  {
   "cell_type": "markdown",
   "metadata": {},
   "source": [
    "So, first we compute the Jacobian matrix of this $F$:\n",
    "\n",
    "$DF(X)=\\left( \\begin{array}{cc}\n",
    "\\partial(x^2+xy)_x & \\partial(x^2+xy)_y \\\\\n",
    "\\partial(x+y^3)_x & \\partial(x+y^3)_y \\\\\n",
    "\\end{array} \\right)$"
   ]
  },
  {
   "cell_type": "markdown",
   "metadata": {},
   "source": [
    "$DF(X)=\\left(\\begin{array}{cc}\n",
    "2x + y & x \\\\\n",
    "1 & 3y^2 \\\\\n",
    "\\end{array} \\right)=\n",
    "\\left(\\begin{array}{cc}\n",
    "-1 & -1 \\\\\n",
    "1 & 3 \\\\\n",
    "\\end{array} \\right)$"
   ]
  },
  {
   "cell_type": "markdown",
   "metadata": {},
   "source": [
    "Thus, we now find the solution of:\n",
    "\n",
    "$\\left( \\begin{array}{c}\n",
    "x(t)'\\\\\n",
    "y(t)'\\\\ \\end{array} \\right)=\n",
    "\\left(\\begin{array}{cc}\n",
    "-1 & -1 \\\\\n",
    "1 & 3 \\\\\n",
    "\\end{array} \\right)\n",
    "\\left(\\begin{array}{c}\n",
    "x \\\\\n",
    "y \\\\\n",
    "\\end{array} \\right)$"
   ]
  },
  {
   "cell_type": "markdown",
   "metadata": {},
   "source": [
    "We find eigenvalues: $(-1-a)(3-a)+1=-3+a-3a+a^2+1=a^2-2a-2$"
   ]
  },
  {
   "cell_type": "markdown",
   "metadata": {},
   "source": [
    "Thus eigenvalues: $c=1+\\sqrt{3}$ and $d=1-\\sqrt{3}$"
   ]
  },
  {
   "cell_type": "markdown",
   "metadata": {},
   "source": [
    "Now we find eigenvector for $1+\\sqrt{3}$:\n",
    "\n",
    "$-x-y=x+\\sqrt{3}x$\n",
    "\n",
    "$x+3y=y+\\sqrt{3}y$ \n",
    "\n",
    "And adding together:"
   ]
  },
  {
   "cell_type": "markdown",
   "metadata": {},
   "source": [
    "$2y=x+y+\\sqrt{3}x+\\sqrt{3}y$\n",
    "\n",
    "$2y-y-\\sqrt{3}y=x+\\sqrt{3}x$"
   ]
  },
  {
   "cell_type": "markdown",
   "metadata": {},
   "source": [
    "$y(1-\\sqrt{3})=x(1+\\sqrt{3})$\n",
    "\n",
    "$y=x{1+\\sqrt{3}\\over 1-\\sqrt{3}}=x(-2-\\sqrt{3})$"
   ]
  },
  {
   "cell_type": "markdown",
   "metadata": {},
   "source": [
    "Thus, first eigenvector: $[1,-2-\\sqrt{3}]^T$"
   ]
  },
  {
   "cell_type": "markdown",
   "metadata": {},
   "source": [
    "Now we work on the eigenvector for: $1-\\sqrt{3}$\n",
    "\n",
    "$-x-y=x-\\sqrt{3}x$\n",
    "\n",
    "$x+3y=y-\\sqrt{3}y$"
   ]
  },
  {
   "cell_type": "markdown",
   "metadata": {},
   "source": [
    "Adding together...\n",
    "\n",
    "$2y=x+y-\\sqrt{3}x-\\sqrt{3}y$"
   ]
  },
  {
   "cell_type": "markdown",
   "metadata": {},
   "source": [
    "$2y-y+\\sqrt{3}y=x-\\sqrt{3}x$"
   ]
  },
  {
   "cell_type": "markdown",
   "metadata": {},
   "source": [
    "$y(1+\\sqrt{3})=x(1-\\sqrt{3}) \\rightarrow y = x{1-\\sqrt{3}\\over 1+\\sqrt{3}}\\rightarrow y = x(-2+\\sqrt{3})$"
   ]
  },
  {
   "cell_type": "markdown",
   "metadata": {},
   "source": [
    "Thus second eigenvector is: $[1,-2+\\sqrt{3}]^T$"
   ]
  },
  {
   "cell_type": "markdown",
   "metadata": {},
   "source": [
    "Thus our solution is:\n",
    "$U(t)=ae^{1+\\sqrt{3}t}[1,-2-\\sqrt{3}]^T+be^{(-2+\\sqrt{3})t}[1,-2+\\sqrt{3}]^T$\n",
    "\n",
    "And our variational solution is:"
   ]
  },
  {
   "cell_type": "markdown",
   "metadata": {},
   "source": [
    "$X(t)=\\left(\\begin{array}{c}\n",
    "-1 + ae^{(1+\\sqrt{3})t} +be^{(-2+\\sqrt{3})t}\\\\\n",
    "1 + (-2-\\sqrt{3})ae^{(1+\\sqrt{3})t}+(-2+\\sqrt{3})be^{(-2+\\sqrt{3})t)}\\\\\n",
    "\\end{array} \\right)$"
   ]
  },
  {
   "cell_type": "markdown",
   "metadata": {},
   "source": [
    "## 2 $x'=x^{4/3}, x(t)=27(3-t)^{-3}$\n",
    "\n",
    "We see that $x(t_0)=27*1/3^3=1$\n",
    "\n",
    "We only have one variable here, thus $DF(X_0)={4\\over 3}x^{1/3}=4/3$\n",
    "\n",
    "Thus variational problem: $x'=4/3x \\rightarrow x(t)=ae^{4/3t}$"
   ]
  },
  {
   "cell_type": "markdown",
   "metadata": {},
   "source": [
    "Thus variational solution is: $X(t)=27(3-t)^{-3}+ae^{4/3t}$"
   ]
  }
 ],
 "metadata": {
  "kernelspec": {
   "display_name": "Python 2",
   "language": "python",
   "name": "python2"
  },
  "language_info": {
   "codemirror_mode": {
    "name": "ipython",
    "version": 2
   },
   "file_extension": ".py",
   "mimetype": "text/x-python",
   "name": "python",
   "nbconvert_exporter": "python",
   "pygments_lexer": "ipython2",
   "version": "2.7.10"
  }
 },
 "nbformat": 4,
 "nbformat_minor": 0
}
