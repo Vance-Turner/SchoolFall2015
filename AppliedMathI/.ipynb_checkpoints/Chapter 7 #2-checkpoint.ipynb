{
 "cells": [
  {
   "cell_type": "markdown",
   "metadata": {},
   "source": [
    "**Applied Mathematics I**\n",
    "\n",
    "**Homework Chapter 7 #2**\n",
    "\n",
    "**Vance Turnewitsch**"
   ]
  },
  {
   "cell_type": "markdown",
   "metadata": {},
   "source": [
    "Let $A$ be an $n\\times n$ matrix. Show that the Picard method for solving $X'=AX, X(0)=X_0$ gives the solution $\\exp(tA)X_0$"
   ]
  },
  {
   "cell_type": "markdown",
   "metadata": {},
   "source": [
    "We will use a proof by induction. First note that:\n",
    "\n",
    "$\\exp(tA)X_0=X_0\\sum_{k=0}^\\infty \\cfrac{(tA)^k}{k!}$\n",
    "\n",
    "Allow our Picard iterations to be: $P_i$ where we have $P_0=X_0$ thus, we can assume:"
   ]
  },
  {
   "cell_type": "code",
   "execution_count": null,
   "metadata": {
    "collapsed": true
   },
   "outputs": [],
   "source": []
  }
 ],
 "metadata": {
  "kernelspec": {
   "display_name": "Python 2",
   "language": "python",
   "name": "python2"
  },
  "language_info": {
   "codemirror_mode": {
    "name": "ipython",
    "version": 2
   },
   "file_extension": ".py",
   "mimetype": "text/x-python",
   "name": "python",
   "nbconvert_exporter": "python",
   "pygments_lexer": "ipython2",
   "version": "2.7.10"
  }
 },
 "nbformat": 4,
 "nbformat_minor": 0
}
