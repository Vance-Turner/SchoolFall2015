{
 "cells": [
  {
   "cell_type": "markdown",
   "metadata": {},
   "source": [
    "## Applie Mathematics I\n",
    "## Vance Turnewitsch\n",
    "## Chapter 7 #1 c,e"
   ]
  },
  {
   "cell_type": "markdown",
   "metadata": {},
   "source": [
    "Write out the first few terms of the Picard iteration scheme for each of the following initial value problems. Where possible, find explicit solutions and describe the domain of this solution.\n",
    "\n",
    "(c) $x'=x^{4/3}; x(0)=1$\n",
    "\n",
    "So, Picard's interation: $u_{k+1}(t)=x_0+\\int_0^t F(u_k(s))ds $\n",
    "\n",
    "Where $u_0(t)=1$ and $F(x)=x^{4/3}$"
   ]
  },
  {
   "cell_type": "markdown",
   "metadata": {},
   "source": [
    "$u_1(t)=1+\\int_0^t F(u_0(s))ds$\n",
    "\n",
    "$=1+\\int_0^t F(1)ds$\n",
    "\n",
    "$=1+\\int_0^t 1ds$\n",
    "\n",
    "$u_1(t)=1+s\\big|_0^t=1+t$"
   ]
  },
  {
   "cell_type": "markdown",
   "metadata": {},
   "source": [
    "$u_2(t)=1+\\int_0^t F(u_1(s))ds$\n",
    "\n",
    "$=1+\\int_0^t F(1+s)ds$\n",
    "\n",
    "$=1+{3\\over 7}(1+s)^{7/3}\\big|_0^t$\n",
    "\n",
    "$=1+{3\\over 7}(1+t)^{7/3}-{3\\over 7}$\n",
    "\n",
    "$u_2(t)=4/7 + 3/7 (1 + t)^{7/3}$"
   ]
  },
  {
   "cell_type": "markdown",
   "metadata": {},
   "source": [
    "$u_3(t)=1+\\int_0^t F(u_2(s))ds$\n",
    "\n",
    "$=1+\\int_0^t 4/7 + 3/7 (1 + s)^{7/3}ds$"
   ]
  },
  {
   "cell_type": "markdown",
   "metadata": {},
   "source": [
    "$=1+(\\frac{1}{7} \\left(\\frac{9}{10} (s+1)^{10/3}+4 s\\right))\\big|_0^t$\n",
    "\n",
    "$=1-{9\\over 70}+\\frac{1}{7} \\left(\\frac{9}{10} (t+1)^{10/3}+4 t\\right)$\n",
    "\n",
    "$u_3(t)={61\\over 70}+\\frac{1}{7} \\left(\\frac{9}{10} (t+1)^{10/3}+4 t\\right)$"
   ]
  },
  {
   "cell_type": "markdown",
   "metadata": {},
   "source": [
    "Now we attempt to find the explicit solution.\n",
    "\n",
    "$x'=x^{4/3}\\rightarrow dx/dt = x(t)^{4/3}\\rightarrow dx = t^{4/3}dt\\rightarrow x(t) = {3\\over 7}t^{7/3}+c$\n",
    "\n",
    "The domain is obviously all real values. If we are assuming though that $t$ represents physical time, then the domain should probably be $[0,\\infty)$"
   ]
  },
  {
   "cell_type": "markdown",
   "metadata": {},
   "source": [
    "(e) $x'=1/(2x); x(1)=1$\n",
    "\n",
    "So, Picard's interation: $u_{k+1}(t)=x_0+\\int_0^t F(u_k(s))ds $\n",
    "\n",
    "Where $u_0(t)=1$ and $F(x)=1/(2x)$"
   ]
  },
  {
   "cell_type": "markdown",
   "metadata": {},
   "source": [
    "$u_1(t)=1+\\int_1^t F(u_0(s))ds$\n",
    "\n",
    "$=1\\int_1^t F(1))ds$\n",
    "\n",
    "$=1+\\int_1^t 1/2 ds$\n",
    "\n",
    "$=1+\\big|_1^t{1\\over 2}s$\n",
    "\n",
    "$u_1(t)=1+1/2t-1/2=1/2+1/2t$"
   ]
  },
  {
   "cell_type": "markdown",
   "metadata": {},
   "source": [
    "$u_2(t)=1+\\int_1^t F(u_1(s))ds$\n",
    "\n",
    "$=1+\\int_1^t F(\\frac{s+1}{2})ds$\n",
    "\n",
    "$=1+\\int_1^t 1/(2(\\frac{s+1}{2})) ds$"
   ]
  },
  {
   "cell_type": "markdown",
   "metadata": {},
   "source": [
    "$=1+\\int_1^t 1/(s+1)ds$\n",
    "\n",
    "$=1+\\ln(1+s)\\big|_1^t$\n",
    "\n",
    "$=1+\\ln(1+t)-\\ln(2)$\n",
    "\n",
    "$u_2(t)=1+ln({1+t\\over 2})$"
   ]
  },
  {
   "cell_type": "markdown",
   "metadata": {},
   "source": [
    "$u_3(t)=1+\\int_1^t F(u_2(s))ds=1+\\int_1^t F(1+ln({1+t\\over 2}))ds$\n",
    "\n",
    "$u_3(t)=1+\\int_1^t 1/(2(1+ln({1+t\\over 2}))) ds$"
   ]
  },
  {
   "cell_type": "markdown",
   "metadata": {
    "collapsed": true
   },
   "source": [
    "So, let's try to find the exact solution. \n",
    "\n",
    "$dx/dt=2^{-1}\\cdot t^{-1}$\n",
    "\n",
    "$dx = 2^{-1}\\int t^{-1} dt$\n",
    "\n",
    "$dx = {1\\over 2}\\int {1\\over t}dt$\n",
    "\n",
    "$x(t)={1\\over 2}(ln(t)+c)={1\\over 2}ln(t)+c_2$\n",
    "\n",
    "The domain is obviously $(0,\\infty)$"
   ]
  }
 ],
 "metadata": {
  "kernelspec": {
   "display_name": "Python 2",
   "language": "python",
   "name": "python2"
  },
  "language_info": {
   "codemirror_mode": {
    "name": "ipython",
    "version": 2
   },
   "file_extension": ".py",
   "mimetype": "text/x-python",
   "name": "python",
   "nbconvert_exporter": "python",
   "pygments_lexer": "ipython2",
   "version": "2.7.10"
  }
 },
 "nbformat": 4,
 "nbformat_minor": 0
}
