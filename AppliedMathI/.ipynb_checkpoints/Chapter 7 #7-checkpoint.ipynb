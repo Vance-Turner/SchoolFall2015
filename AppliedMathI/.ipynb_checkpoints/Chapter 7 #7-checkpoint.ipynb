{
 "cells": [
  {
   "cell_type": "markdown",
   "metadata": {},
   "source": [
    "**Applied Mathematics I**\n",
    "\n",
    "**Homework Chapter 7 #7**\n",
    "\n",
    "**Vance Turnewitsch**"
   ]
  },
  {
   "cell_type": "markdown",
   "metadata": {},
   "source": [
    "Let $A(t)$ be a continuous family of $n\\times n$ matrices, and let $P(t)$ be the matrix solution to the initial value problem $P'=A(t)P, P(0)=P_0$. Show that:\n",
    "\n",
    "$\\textrm{det}P(t)=(\\textrm{det}P_0)exp(\\int_0^t \\textrm{Tr}A(s)ds)$"
   ]
  },
  {
   "cell_type": "markdown",
   "metadata": {},
   "source": [
    "## Case i:\n",
    " where $A(t)=diag(\\lambda_1(t),...\\lambda_n(t))$"
   ]
  },
  {
   "cell_type": "markdown",
   "metadata": {},
   "source": [
    "We observe that for any $n\\times q$ matrix, $P$, we have: $P'=A(t)P\\rightarrow [A(t)P_1,A(t)P_2,...,A(t)P_q]$ where $P_i$ are the columns from $P$. Thus we have $q$ equations of the form:\n",
    "\n",
    "$P'_i = A(t)P_i$ where $P'_i$ is the ith column of the $P'$ matrix."
   ]
  },
  {
   "cell_type": "markdown",
   "metadata": {},
   "source": [
    "We use the result from problem #2: \n",
    "\n",
    "Let $A$ be an $n\\times n$ matrix. Then for the problem $X'=AX$ the initial value solution is: $X(t)=exp(tA)X_0$ where of course $X(0)=X_0$"
   ]
  },
  {
   "cell_type": "markdown",
   "metadata": {},
   "source": [
    "Thus, we perform Picard iteration on each of the $P_i$ equations given here to get: $P_i(t)=exp(tA)P_{i0}$\n",
    "\n",
    "Thus: $\\textrm{det}P(t)=\\det([exp(tA)P_{10},exp(tA)P_{20},...,exp(tA)P_{q0}])$\n",
    "\n",
    "$=\\det(exp(tA)[P_{10},...,P_{q0}])$\n",
    "\n",
    "$=\\det(exp(tA))\\det(P_0)$\n",
    "\n",
    "Using results from page 124 (exponential of diagonal matrix...)\n",
    "\n",
    "$=\\textrm{det}(diag(e^{\\lambda_1t},...,e^{\\lambda_nt}))\\det(P_0)=exp((\\lambda_1(t)+\\lambda_2(t)+...+\\lambda_n(t))t)\\textrm{det}(P_0)$"
   ]
  },
  {
   "cell_type": "markdown",
   "metadata": {},
   "source": [
    "And: $det(P_0)=det(P_0)$"
   ]
  },
  {
   "cell_type": "markdown",
   "metadata": {},
   "source": [
    "Observe that: $\\textrm{Tr}(A(s))=\\lambda_1(s)+...+\\lambda_n(s)$"
   ]
  },
  {
   "cell_type": "markdown",
   "metadata": {},
   "source": [
    "Thus: $\\int_0^t \\lambda_1(t)+...+\\lambda_n(t) ds=(\\lambda_1(t)+...+\\lambda_n(t))t$ for small values of $t$."
   ]
  },
  {
   "cell_type": "markdown",
   "metadata": {},
   "source": [
    "Thus: $exp(\\int_0^t \\textrm{Tr}(A(s)ds=exp((\\lambda_1(t)+...+\\lambda_n(t))t)$"
   ]
  },
  {
   "cell_type": "markdown",
   "metadata": {},
   "source": [
    "Thus: $(\\textrm{det}P_0)exp(\\int_0^t \\textrm{Tr}A(s)ds)=\\textrm{det}(P_0)exp((\\lambda_1(t)+...+\\lambda_n(t))t)$"
   ]
  },
  {
   "cell_type": "markdown",
   "metadata": {},
   "source": [
    "While: $\\textrm{det}P(t)=exp((\\lambda_1(t)+\\lambda_2(t)+...+\\lambda_n(t))t)\\textrm{det}(P_0)$"
   ]
  },
  {
   "cell_type": "markdown",
   "metadata": {},
   "source": [
    "Thus: $\\textrm{det}P(t)=(\\textrm{det}P_0)exp(\\int_0^t \\textrm{Tr}A(s)ds)$ with commutation."
   ]
  },
  {
   "cell_type": "markdown",
   "metadata": {},
   "source": [
    "## Case ii:\n",
    "\n"
   ]
  },
  {
   "cell_type": "markdown",
   "metadata": {},
   "source": [
    "Where $n=2$ and matrix may not be diagonal."
   ]
  },
  {
   "cell_type": "markdown",
   "metadata": {},
   "source": [
    "Let $P=\\left [ \\begin{matrix}\n",
    "P_{1,1} &P_{1,2} \\\\ \n",
    "P_{2,1} & P_{2,2}\n",
    "\\end{matrix} \\right ]$,\n",
    "$P'=\\left [ \\begin{matrix}\n",
    "P'_{1,1} & P'_{1,2} \\\\ \n",
    "P'_{2,1} & P'_{2,2}\n",
    "\\end{matrix} \\right ]$,\n",
    "$A=\\left [ \\begin{matrix}\n",
    "A_{1,1} & A_{1,2} \\\\ \n",
    "A_{2,1} & A_{2,2}\n",
    "\\end{matrix} \\right ]$, and $P_0=\\left [ \\begin{matrix}\n",
    "P_{1,1,0} &P_{1,2,0} \\\\ \n",
    "P_{2,1,0} & P_{2,2,0}\n",
    "\\end{matrix} \\right ]$"
   ]
  },
  {
   "cell_type": "markdown",
   "metadata": {},
   "source": [
    "Thus: $Tr(A)=A_{1,1}+A_{2,2}$ and $\\exp(\\int_0^t A_{1,1}+A_{2,2}ds) = \\exp(\\int_0^t A_{1,1}ds)\\exp(\\int_0^t A_{2,2}ds)$\n",
    "\n",
    "Thus: $\\det(P)=P_{1,1}P_{2,2} - P_{2,1}P_{1,2}$\n",
    "\n",
    "Thus: $\\det(P_0)=P_{1,1,0}P_{2,2,0} - P_{2,1,0}P_{1,2,0}$"
   ]
  },
  {
   "cell_type": "markdown",
   "metadata": {},
   "source": [
    "Thus: $\\det(P_0)\\exp(\\int_0^t A_{1,1}+A_{2,2}ds)=\\det(P_0)\\exp(\\int_0^t A_{1,1}ds)\\exp(\\int_0^t A_{2,2}ds)$\n",
    "\n",
    "$=(P_{1,1,0}P_{2,2,0} - P_{2,1,0}P_{1,2,0})\\exp(\\int_0^t A_{1,1}ds)\\exp(\\int_0^t A_{2,2}ds)$\n",
    "\n",
    "$=P_{1,1,0}P_{2,2,0}\\exp(\\int_0^t A_{1,1}ds)\\exp(\\int_0^t A_{2,2}ds)-P_{2,1,0}P_{1,2,0}\\exp(\\int_0^t A_{1,1}ds)\\exp(\\int_0^t A_{2,2}ds)$"
   ]
  },
  {
   "cell_type": "markdown",
   "metadata": {},
   "source": [
    "And since $P_{1,1,0}$ is just a constant, we can commute it:"
   ]
  },
  {
   "cell_type": "markdown",
   "metadata": {},
   "source": [
    "$=P_{1,1,0}\\exp(\\int_0^t A_{1,1}ds)\\cdot P_{2,2,0}\\exp(\\int_0^t A_{2,2}ds)-P_{2,1,0}\\exp(\\int_0^t A_{1,1})\\cdot P_{1,2,0}\\exp(\\int_0^t A_{2,2}ds)$"
   ]
  },
  {
   "cell_type": "markdown",
   "metadata": {},
   "source": [
    "$\\det(P')=P'_{1,1}P'_{2,2} - P'_{2,1}P'_{1,2}=\\det(A(t)P_0)=\\det(A(t))\\det(P_0)$\n",
    "\n",
    "$=(A_{1,1}A_{2,2}-A_{2,1}A_{1,2})(P_{1,1,0}P_{2,2,0} - P_{2,1,0}P_{1,2,0})$"
   ]
  },
  {
   "cell_type": "markdown",
   "metadata": {},
   "source": [
    "$=A_{1,1}A_{2,2}P_{1,1,0}P_{2,2,0}-A_{1,1}A_{2,2}P_{2,1,0}P_{1,2,0}-A_{2,1}A_{1,2}P_{1,1,0}P_{2,2,0}+A_{2,1}A_{1,2}P_{2,1,0}P_{1,2,0}$"
   ]
  },
  {
   "cell_type": "markdown",
   "metadata": {},
   "source": [
    "$=(A_{1,1}A_{2,2}-A_{2,1}A_{1,2})P_{1,1,0}P_{2,2,0}-(A_{1,1}A_{2,2}-A_{2,1}A_{1,2})P_{2,1,0}P_{1,2,0}$"
   ]
  }
 ],
 "metadata": {
  "kernelspec": {
   "display_name": "Python 2",
   "language": "python",
   "name": "python2"
  },
  "language_info": {
   "codemirror_mode": {
    "name": "ipython",
    "version": 2
   },
   "file_extension": ".py",
   "mimetype": "text/x-python",
   "name": "python",
   "nbconvert_exporter": "python",
   "pygments_lexer": "ipython2",
   "version": "2.7.10"
  }
 },
 "nbformat": 4,
 "nbformat_minor": 0
}
