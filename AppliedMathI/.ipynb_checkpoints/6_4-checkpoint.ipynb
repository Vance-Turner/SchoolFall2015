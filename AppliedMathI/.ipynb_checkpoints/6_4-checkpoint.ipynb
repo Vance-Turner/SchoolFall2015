{
 "metadata": {
  "name": "",
  "signature": "sha256:fb325571cf07f74ed38bda8adaceaf95fa9db717bccb6f504aba5fdededa50e1"
 },
 "nbformat": 3,
 "nbformat_minor": 0,
 "worksheets": [
  {
   "cells": [
    {
     "cell_type": "code",
     "collapsed": false,
     "input": [
      "import sympy as spy"
     ],
     "language": "python",
     "metadata": {},
     "outputs": [],
     "prompt_number": 1
    },
    {
     "cell_type": "code",
     "collapsed": false,
     "input": [
      "spy.init_printing()"
     ],
     "language": "python",
     "metadata": {},
     "outputs": [],
     "prompt_number": 2
    },
    {
     "cell_type": "code",
     "collapsed": false,
     "input": [
      "A = spy.Matrix([[0.,1.,1.,0.],\n",
      "                [-1.,0.,0.,1.],\n",
      "                [0.,0.,0.,1.],\n",
      "                [0.,0.,-1.,0.]])"
     ],
     "language": "python",
     "metadata": {},
     "outputs": [],
     "prompt_number": 3
    },
    {
     "cell_type": "code",
     "collapsed": false,
     "input": [
      "A"
     ],
     "language": "python",
     "metadata": {},
     "outputs": [
      {
       "latex": [
        "$$\\left[\\begin{matrix}0.0 & 1.0 & 1.0 & 0.0\\\\-1.0 & 0.0 & 0.0 & 1.0\\\\0.0 & 0.0 & 0.0 & 1.0\\\\0.0 & 0.0 & -1.0 & 0.0\\end{matrix}\\right]$$"
       ],
       "metadata": {},
       "output_type": "pyout",
       "png": "[encoded data removed]",
       "prompt_number": 4,
       "text": [
        "\u23a10.0   1.0  1.0   0.0\u23a4\n",
        "\u23a2                    \u23a5\n",
        "\u23a2-1.0  0.0  0.0   1.0\u23a5\n",
        "\u23a2                    \u23a5\n",
        "\u23a20.0   0.0  0.0   1.0\u23a5\n",
        "\u23a2                    \u23a5\n",
        "\u23a30.0   0.0  -1.0  0.0\u23a6"
       ]
      }
     ],
     "prompt_number": 4
    },
    {
     "cell_type": "code",
     "collapsed": false,
     "input": [
      "A**2"
     ],
     "language": "python",
     "metadata": {},
     "outputs": [
      {
       "latex": [
        "$$\\left[\\begin{matrix}-1.0 & 0 & 0 & 2.0\\\\0 & -1.0 & -2.0 & 0\\\\0 & 0 & -1.0 & 0\\\\0 & 0 & 0 & -1.0\\end{matrix}\\right]$$"
       ],
       "metadata": {},
       "output_type": "pyout",
       "png": "[encoded data removed]",
       "prompt_number": 5,
       "text": [
        "\u23a1-1.0   0     0    2.0 \u23a4\n",
        "\u23a2                      \u23a5\n",
        "\u23a2 0    -1.0  -2.0   0  \u23a5\n",
        "\u23a2                      \u23a5\n",
        "\u23a2 0     0    -1.0   0  \u23a5\n",
        "\u23a2                      \u23a5\n",
        "\u23a3 0     0     0    -1.0\u23a6"
       ]
      }
     ],
     "prompt_number": 5
    },
    {
     "cell_type": "code",
     "collapsed": false,
     "input": [
      "A**3"
     ],
     "language": "python",
     "metadata": {},
     "outputs": [
      {
       "latex": [
        "$$\\left[\\begin{matrix}0 & -1.0 & -3.0 & 0\\\\1.0 & 0 & 0 & -3.0\\\\0 & 0 & 0 & -1.0\\\\0 & 0 & 1.0 & 0\\end{matrix}\\right]$$"
       ],
       "metadata": {},
       "output_type": "pyout",
       "png": "[encoded data removed]",
       "prompt_number": 6,
       "text": [
        "\u23a1 0   -1.0  -3.0   0  \u23a4\n",
        "\u23a2                     \u23a5\n",
        "\u23a21.0   0     0    -3.0\u23a5\n",
        "\u23a2                     \u23a5\n",
        "\u23a2 0    0     0    -1.0\u23a5\n",
        "\u23a2                     \u23a5\n",
        "\u23a3 0    0    1.0    0  \u23a6"
       ]
      }
     ],
     "prompt_number": 6
    },
    {
     "cell_type": "code",
     "collapsed": false,
     "input": [
      "A**4"
     ],
     "language": "python",
     "metadata": {},
     "outputs": [
      {
       "latex": [
        "$$\\left[\\begin{matrix}1.0 & 0 & 0 & -4.0\\\\0 & 1.0 & 4.0 & 0\\\\0 & 0 & 1.0 & 0\\\\0 & 0 & 0 & 1.0\\end{matrix}\\right]$$"
       ],
       "metadata": {},
       "output_type": "pyout",
       "png": "[encoded data removed]",
       "prompt_number": 7,
       "text": [
        "\u23a11.0   0    0   -4.0\u23a4\n",
        "\u23a2                   \u23a5\n",
        "\u23a2 0   1.0  4.0   0  \u23a5\n",
        "\u23a2                   \u23a5\n",
        "\u23a2 0    0   1.0   0  \u23a5\n",
        "\u23a2                   \u23a5\n",
        "\u23a3 0    0    0   1.0 \u23a6"
       ]
      }
     ],
     "prompt_number": 7
    },
    {
     "cell_type": "code",
     "collapsed": false,
     "input": [
      "A**5"
     ],
     "language": "python",
     "metadata": {},
     "outputs": [
      {
       "latex": [
        "$$\\left[\\begin{matrix}0 & 1.0 & 5.0 & 0\\\\-1.0 & 0 & 0 & 5.0\\\\0 & 0 & 0 & 1.0\\\\0 & 0 & -1.0 & 0\\end{matrix}\\right]$$"
       ],
       "metadata": {},
       "output_type": "pyout",
       "png": "[encoded data removed]",
       "prompt_number": 8,
       "text": [
        "\u23a1 0    1.0  5.0    0 \u23a4\n",
        "\u23a2                    \u23a5\n",
        "\u23a2-1.0   0    0    5.0\u23a5\n",
        "\u23a2                    \u23a5\n",
        "\u23a2 0     0    0    1.0\u23a5\n",
        "\u23a2                    \u23a5\n",
        "\u23a3 0     0   -1.0   0 \u23a6"
       ]
      }
     ],
     "prompt_number": 8
    },
    {
     "cell_type": "code",
     "collapsed": false,
     "input": [
      "A**6"
     ],
     "language": "python",
     "metadata": {},
     "outputs": [
      {
       "latex": [
        "$$\\left[\\begin{matrix}-1.0 & 0 & 0 & 6.0\\\\0 & -1.0 & -6.0 & 0\\\\0 & 0 & -1.0 & 0\\\\0 & 0 & 0 & -1.0\\end{matrix}\\right]$$"
       ],
       "metadata": {},
       "output_type": "pyout",
       "png": "[encoded data removed]",
       "prompt_number": 11,
       "text": [
        "\u23a1-1.0   0     0    6.0 \u23a4\n",
        "\u23a2                      \u23a5\n",
        "\u23a2 0    -1.0  -6.0   0  \u23a5\n",
        "\u23a2                      \u23a5\n",
        "\u23a2 0     0    -1.0   0  \u23a5\n",
        "\u23a2                      \u23a5\n",
        "\u23a3 0     0     0    -1.0\u23a6"
       ]
      }
     ],
     "prompt_number": 11
    },
    {
     "cell_type": "code",
     "collapsed": false,
     "input": [
      "A**7"
     ],
     "language": "python",
     "metadata": {},
     "outputs": [
      {
       "latex": [
        "$$\\left[\\begin{matrix}0 & -1.0 & -7.0 & 0\\\\1.0 & 0 & 0 & -7.0\\\\0 & 0 & 0 & -1.0\\\\0 & 0 & 1.0 & 0\\end{matrix}\\right]$$"
       ],
       "metadata": {},
       "output_type": "pyout",
       "png": "[encoded data removed]",
       "prompt_number": 12,
       "text": [
        "\u23a1 0   -1.0  -7.0   0  \u23a4\n",
        "\u23a2                     \u23a5\n",
        "\u23a21.0   0     0    -7.0\u23a5\n",
        "\u23a2                     \u23a5\n",
        "\u23a2 0    0     0    -1.0\u23a5\n",
        "\u23a2                     \u23a5\n",
        "\u23a3 0    0    1.0    0  \u23a6"
       ]
      }
     ],
     "prompt_number": 12
    },
    {
     "cell_type": "code",
     "collapsed": false,
     "input": [
      "A**8"
     ],
     "language": "python",
     "metadata": {},
     "outputs": [
      {
       "latex": [
        "$$\\left[\\begin{matrix}1.0 & 0 & 0 & -8.0\\\\0 & 1.0 & 8.0 & 0\\\\0 & 0 & 1.0 & 0\\\\0 & 0 & 0 & 1.0\\end{matrix}\\right]$$"
       ],
       "metadata": {},
       "output_type": "pyout",
       "png": "[encoded data removed]",
       "prompt_number": 13,
       "text": [
        "\u23a11.0   0    0   -8.0\u23a4\n",
        "\u23a2                   \u23a5\n",
        "\u23a2 0   1.0  8.0   0  \u23a5\n",
        "\u23a2                   \u23a5\n",
        "\u23a2 0    0   1.0   0  \u23a5\n",
        "\u23a2                   \u23a5\n",
        "\u23a3 0    0    0   1.0 \u23a6"
       ]
      }
     ],
     "prompt_number": 13
    },
    {
     "cell_type": "code",
     "collapsed": false,
     "input": [
      "A**9"
     ],
     "language": "python",
     "metadata": {},
     "outputs": [
      {
       "latex": [
        "$$\\left[\\begin{matrix}0 & 1.0 & 9.0 & 0\\\\-1.0 & 0 & 0 & 9.0\\\\0 & 0 & 0 & 1.0\\\\0 & 0 & -1.0 & 0\\end{matrix}\\right]$$"
       ],
       "metadata": {},
       "output_type": "pyout",
       "png": "[encoded data removed]",
       "prompt_number": 14,
       "text": [
        "\u23a1 0    1.0  9.0    0 \u23a4\n",
        "\u23a2                    \u23a5\n",
        "\u23a2-1.0   0    0    9.0\u23a5\n",
        "\u23a2                    \u23a5\n",
        "\u23a2 0     0    0    1.0\u23a5\n",
        "\u23a2                    \u23a5\n",
        "\u23a3 0     0   -1.0   0 \u23a6"
       ]
      }
     ],
     "prompt_number": 14
    },
    {
     "cell_type": "code",
     "collapsed": false,
     "input": [
      "def evenTest(n):\n",
      "    return 0.5*(1+(-1.)**n)\n",
      "\n",
      "def oddTest(n):\n",
      "    return 0.5*(1-(-1.)**n)"
     ],
     "language": "python",
     "metadata": {},
     "outputs": [],
     "prompt_number": 112
    },
    {
     "cell_type": "code",
     "collapsed": false,
     "input": [
      "def evenMatrix(n):\n",
      "    return evenTest(n)*spy.Matrix([[(-1.)**(n/2),0.,0.,-(-1.)**(n/2)*n],\n",
      "                                  [0.,(-1.)**(n/2),(-1.)**(n/2)*n,0.],\n",
      "                                  [0.,0.,(-1.)**(n/2),0.],\n",
      "                                  [0.,0.,0.,(-1.)**(n/2)]])"
     ],
     "language": "python",
     "metadata": {},
     "outputs": [],
     "prompt_number": 108
    },
    {
     "cell_type": "code",
     "collapsed": false,
     "input": [
      "evenMatrix(4)"
     ],
     "language": "python",
     "metadata": {},
     "outputs": [
      {
       "latex": [
        "$$\\left[\\begin{matrix}1.0 & 0 & 0 & -4.0\\\\0 & 1.0 & 4.0 & 0\\\\0 & 0 & 1.0 & 0\\\\0 & 0 & 0 & 1.0\\end{matrix}\\right]$$"
       ],
       "metadata": {},
       "output_type": "pyout",
       "png": "[encoded data removed]",
       "prompt_number": 111,
       "text": [
        "\u23a11.0   0    0   -4.0\u23a4\n",
        "\u23a2                   \u23a5\n",
        "\u23a2 0   1.0  4.0   0  \u23a5\n",
        "\u23a2                   \u23a5\n",
        "\u23a2 0    0   1.0   0  \u23a5\n",
        "\u23a2                   \u23a5\n",
        "\u23a3 0    0    0   1.0 \u23a6"
       ]
      }
     ],
     "prompt_number": 111
    },
    {
     "cell_type": "code",
     "collapsed": false,
     "input": [
      "def oddMatrix(n):\n",
      "    return oddTest(n)*spy.Matrix([[0.,(-1.)**(n-(n+1)/2),(-1.)**(n-(n+1)/2)*n,0.],\n",
      "                                  [-(-1.)**(n-(n+1)/2),0.,0.,(-1.)**(n-(n+1)/2)*n],\n",
      "                                  [0.,0.,0.,(-1.)**(n-(n+1)/2)],\n",
      "                                  [0.,0.,-(-1.)**(n-(n+1)/2),0.]])"
     ],
     "language": "python",
     "metadata": {},
     "outputs": [],
     "prompt_number": 138
    },
    {
     "cell_type": "code",
     "collapsed": false,
     "input": [
      "oddMatrix(7)"
     ],
     "language": "python",
     "metadata": {},
     "outputs": [
      {
       "latex": [
        "$$\\left[\\begin{matrix}0 & -1.0 & -7.0 & 0\\\\1.0 & 0 & 0 & -7.0\\\\0 & 0 & 0 & -1.0\\\\0 & 0 & 1.0 & 0\\end{matrix}\\right]$$"
       ],
       "metadata": {},
       "output_type": "pyout",
       "png": "[encoded data removed]",
       "prompt_number": 141,
       "text": [
        "\u23a1 0   -1.0  -7.0   0  \u23a4\n",
        "\u23a2                     \u23a5\n",
        "\u23a21.0   0     0    -7.0\u23a5\n",
        "\u23a2                     \u23a5\n",
        "\u23a2 0    0     0    -1.0\u23a5\n",
        "\u23a2                     \u23a5\n",
        "\u23a3 0    0    1.0    0  \u23a6"
       ]
      }
     ],
     "prompt_number": 141
    },
    {
     "cell_type": "code",
     "collapsed": false,
     "input": [
      "def totalMatrix(n):\n",
      "    return evenMatrix(n)+oddMatrix(n)"
     ],
     "language": "python",
     "metadata": {},
     "outputs": [],
     "prompt_number": 142
    },
    {
     "cell_type": "code",
     "collapsed": false,
     "input": [
      "totalMatrix(0)"
     ],
     "language": "python",
     "metadata": {},
     "outputs": [
      {
       "latex": [
        "$$\\left[\\begin{matrix}1.0 & 0 & 0 & 0\\\\0 & 1.0 & 0 & 0\\\\0 & 0 & 1.0 & 0\\\\0 & 0 & 0 & 1.0\\end{matrix}\\right]$$"
       ],
       "metadata": {},
       "output_type": "pyout",
       "png": "[encoded data removed]",
       "prompt_number": 143,
       "text": [
        "\u23a11.0   0    0    0 \u23a4\n",
        "\u23a2                  \u23a5\n",
        "\u23a2 0   1.0   0    0 \u23a5\n",
        "\u23a2                  \u23a5\n",
        "\u23a2 0    0   1.0   0 \u23a5\n",
        "\u23a2                  \u23a5\n",
        "\u23a3 0    0    0   1.0\u23a6"
       ]
      }
     ],
     "prompt_number": 143
    },
    {
     "cell_type": "code",
     "collapsed": false,
     "input": [
      "totalMatrix(1)"
     ],
     "language": "python",
     "metadata": {},
     "outputs": [
      {
       "latex": [
        "$$\\left[\\begin{matrix}0 & 1.0 & 1.0 & 0\\\\-1.0 & 0 & 0 & 1.0\\\\0 & 0 & 0 & 1.0\\\\0 & 0 & -1.0 & 0\\end{matrix}\\right]$$"
       ],
       "metadata": {},
       "output_type": "pyout",
       "png": "[encoded data removed]",
       "prompt_number": 144,
       "text": [
        "\u23a1 0    1.0  1.0    0 \u23a4\n",
        "\u23a2                    \u23a5\n",
        "\u23a2-1.0   0    0    1.0\u23a5\n",
        "\u23a2                    \u23a5\n",
        "\u23a2 0     0    0    1.0\u23a5\n",
        "\u23a2                    \u23a5\n",
        "\u23a3 0     0   -1.0   0 \u23a6"
       ]
      }
     ],
     "prompt_number": 144
    },
    {
     "cell_type": "code",
     "collapsed": false,
     "input": [
      "totalMatrix(2)"
     ],
     "language": "python",
     "metadata": {},
     "outputs": [
      {
       "latex": [
        "$$\\left[\\begin{matrix}-1.0 & 0 & 0 & 2.0\\\\0 & -1.0 & -2.0 & 0\\\\0 & 0 & -1.0 & 0\\\\0 & 0 & 0 & -1.0\\end{matrix}\\right]$$"
       ],
       "metadata": {},
       "output_type": "pyout",
       "png": "[encoded data removed]",
       "prompt_number": 145,
       "text": [
        "\u23a1-1.0   0     0    2.0 \u23a4\n",
        "\u23a2                      \u23a5\n",
        "\u23a2 0    -1.0  -2.0   0  \u23a5\n",
        "\u23a2                      \u23a5\n",
        "\u23a2 0     0    -1.0   0  \u23a5\n",
        "\u23a2                      \u23a5\n",
        "\u23a3 0     0     0    -1.0\u23a6"
       ]
      }
     ],
     "prompt_number": 145
    },
    {
     "cell_type": "code",
     "collapsed": false,
     "input": [
      "totalMatrix(3)"
     ],
     "language": "python",
     "metadata": {},
     "outputs": [
      {
       "latex": [
        "$$\\left[\\begin{matrix}0 & -1.0 & -3.0 & 0\\\\1.0 & 0 & 0 & -3.0\\\\0 & 0 & 0 & -1.0\\\\0 & 0 & 1.0 & 0\\end{matrix}\\right]$$"
       ],
       "metadata": {},
       "output_type": "pyout",
       "png": "[encoded data removed]",
       "prompt_number": 146,
       "text": [
        "\u23a1 0   -1.0  -3.0   0  \u23a4\n",
        "\u23a2                     \u23a5\n",
        "\u23a21.0   0     0    -3.0\u23a5\n",
        "\u23a2                     \u23a5\n",
        "\u23a2 0    0     0    -1.0\u23a5\n",
        "\u23a2                     \u23a5\n",
        "\u23a3 0    0    1.0    0  \u23a6"
       ]
      }
     ],
     "prompt_number": 146
    },
    {
     "cell_type": "code",
     "collapsed": false,
     "input": [
      "totalMatrix(4)"
     ],
     "language": "python",
     "metadata": {},
     "outputs": [
      {
       "latex": [
        "$$\\left[\\begin{matrix}1.0 & 0 & 0 & -4.0\\\\0 & 1.0 & 4.0 & 0\\\\0 & 0 & 1.0 & 0\\\\0 & 0 & 0 & 1.0\\end{matrix}\\right]$$"
       ],
       "metadata": {},
       "output_type": "pyout",
       "png": "[encoded data removed]",
       "prompt_number": 147,
       "text": [
        "\u23a11.0   0    0   -4.0\u23a4\n",
        "\u23a2                   \u23a5\n",
        "\u23a2 0   1.0  4.0   0  \u23a5\n",
        "\u23a2                   \u23a5\n",
        "\u23a2 0    0   1.0   0  \u23a5\n",
        "\u23a2                   \u23a5\n",
        "\u23a3 0    0    0   1.0 \u23a6"
       ]
      }
     ],
     "prompt_number": 147
    },
    {
     "cell_type": "code",
     "collapsed": false,
     "input": [
      "totalMatrix(5)"
     ],
     "language": "python",
     "metadata": {},
     "outputs": [
      {
       "latex": [
        "$$\\left[\\begin{matrix}0 & 1.0 & 5.0 & 0\\\\-1.0 & 0 & 0 & 5.0\\\\0 & 0 & 0 & 1.0\\\\0 & 0 & -1.0 & 0\\end{matrix}\\right]$$"
       ],
       "metadata": {},
       "output_type": "pyout",
       "png": "[encoded data removed]",
       "prompt_number": 148,
       "text": [
        "\u23a1 0    1.0  5.0    0 \u23a4\n",
        "\u23a2                    \u23a5\n",
        "\u23a2-1.0   0    0    5.0\u23a5\n",
        "\u23a2                    \u23a5\n",
        "\u23a2 0     0    0    1.0\u23a5\n",
        "\u23a2                    \u23a5\n",
        "\u23a3 0     0   -1.0   0 \u23a6"
       ]
      }
     ],
     "prompt_number": 148
    },
    {
     "cell_type": "code",
     "collapsed": false,
     "input": [
      "totalMatrix(6)"
     ],
     "language": "python",
     "metadata": {},
     "outputs": [
      {
       "latex": [
        "$$\\left[\\begin{matrix}-1.0 & 0 & 0 & 6.0\\\\0 & -1.0 & -6.0 & 0\\\\0 & 0 & -1.0 & 0\\\\0 & 0 & 0 & -1.0\\end{matrix}\\right]$$"
       ],
       "metadata": {},
       "output_type": "pyout",
       "png": "[encoded data removed]",
       "prompt_number": 149,
       "text": [
        "\u23a1-1.0   0     0    6.0 \u23a4\n",
        "\u23a2                      \u23a5\n",
        "\u23a2 0    -1.0  -6.0   0  \u23a5\n",
        "\u23a2                      \u23a5\n",
        "\u23a2 0     0    -1.0   0  \u23a5\n",
        "\u23a2                      \u23a5\n",
        "\u23a3 0     0     0    -1.0\u23a6"
       ]
      }
     ],
     "prompt_number": 149
    },
    {
     "cell_type": "code",
     "collapsed": false,
     "input": [
      "totalMatrix(7)"
     ],
     "language": "python",
     "metadata": {},
     "outputs": [
      {
       "latex": [
        "$$\\left[\\begin{matrix}0 & -1.0 & -7.0 & 0\\\\1.0 & 0 & 0 & -7.0\\\\0 & 0 & 0 & -1.0\\\\0 & 0 & 1.0 & 0\\end{matrix}\\right]$$"
       ],
       "metadata": {},
       "output_type": "pyout",
       "png": "[encoded data removed]",
       "prompt_number": 150,
       "text": [
        "\u23a1 0   -1.0  -7.0   0  \u23a4\n",
        "\u23a2                     \u23a5\n",
        "\u23a21.0   0     0    -7.0\u23a5\n",
        "\u23a2                     \u23a5\n",
        "\u23a2 0    0     0    -1.0\u23a5\n",
        "\u23a2                     \u23a5\n",
        "\u23a3 0    0    1.0    0  \u23a6"
       ]
      }
     ],
     "prompt_number": 150
    },
    {
     "cell_type": "code",
     "collapsed": false,
     "input": [
      "totalMatrix(8)"
     ],
     "language": "python",
     "metadata": {},
     "outputs": [
      {
       "latex": [
        "$$\\left[\\begin{matrix}1.0 & 0 & 0 & -8.0\\\\0 & 1.0 & 8.0 & 0\\\\0 & 0 & 1.0 & 0\\\\0 & 0 & 0 & 1.0\\end{matrix}\\right]$$"
       ],
       "metadata": {},
       "output_type": "pyout",
       "png": "[encoded data removed]",
       "prompt_number": 151,
       "text": [
        "\u23a11.0   0    0   -8.0\u23a4\n",
        "\u23a2                   \u23a5\n",
        "\u23a2 0   1.0  8.0   0  \u23a5\n",
        "\u23a2                   \u23a5\n",
        "\u23a2 0    0   1.0   0  \u23a5\n",
        "\u23a2                   \u23a5\n",
        "\u23a3 0    0    0   1.0 \u23a6"
       ]
      }
     ],
     "prompt_number": 151
    },
    {
     "cell_type": "code",
     "collapsed": false,
     "input": [
      "totalMatrix(10)"
     ],
     "language": "python",
     "metadata": {},
     "outputs": [
      {
       "latex": [
        "$$\\left[\\begin{matrix}-1.0 & 0 & 0 & 10.0\\\\0 & -1.0 & -10.0 & 0\\\\0 & 0 & -1.0 & 0\\\\0 & 0 & 0 & -1.0\\end{matrix}\\right]$$"
       ],
       "metadata": {},
       "output_type": "pyout",
       "png": "[encoded data removed]",
       "prompt_number": 152,
       "text": [
        "\u23a1-1.0   0      0    10.0\u23a4\n",
        "\u23a2                       \u23a5\n",
        "\u23a2 0    -1.0  -10.0   0  \u23a5\n",
        "\u23a2                       \u23a5\n",
        "\u23a2 0     0    -1.0    0  \u23a5\n",
        "\u23a2                       \u23a5\n",
        "\u23a3 0     0      0    -1.0\u23a6"
       ]
      }
     ],
     "prompt_number": 152
    },
    {
     "cell_type": "code",
     "collapsed": false,
     "input": [],
     "language": "python",
     "metadata": {},
     "outputs": []
    }
   ],
   "metadata": {}
  }
 ]
}