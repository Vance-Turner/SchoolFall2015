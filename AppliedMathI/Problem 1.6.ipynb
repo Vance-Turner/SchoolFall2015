{
 "cells": [
  {
   "cell_type": "markdown",
   "metadata": {},
   "source": [
    "##Problem #6"
   ]
  },
  {
   "cell_type": "markdown",
   "metadata": {},
   "source": [
    "Find the general solution of: $x'=x(1-x)-h$\n",
    "\n",
    "We expand into: $x'=x-x^2-h$ and rearrange: $dx/dt=-x^2+x-h$. Now we manipulate to get:\n",
    "\n",
    "$1/{-x^2+x-h}dx = dt \\Longrightarrow 1/{x^2-x+h}=-dt$ and we integrate: $\\int(1/{x^2-x+h})dx=-\\int dt$\n",
    "\n",
    "And we get: $\\int(1/{x^2-x+h})dx=c-t$ where $c$ is some general constant.\n",
    "\n",
    "Now we consider the denominator in the left integral: $x^2-x+h$ which we observe has two solutions: $x={1\\pm\\sqrt{1-4h}\\over 2}$ \n",
    "\n",
    "Thus we can factor the fraction as follows: ${1\\over x^2-x+h}={1\\over (x+a)(x+b)}$ where $a={1+\\sqrt{1-4h}\\over 2}$ and $b={1-\\sqrt{1-4h}\\over 2}$ assuming that both $a,b$ are real here!"
   ]
  },
  {
   "cell_type": "markdown",
   "metadata": {},
   "source": [
    "We now have: $\\int{1\\over (x+a)(x+b)}dx=c-t$ We now proceed to use partial fractions on the left integrand:\n",
    "\n",
    "${1\\over (x+a)(x+b)}=A/(x+a) + B/(x+b)$ and expanding we get:\n",
    "\n",
    "$1 = A(x+b) + B(x+a) \\Longrightarrow 1=Ax+Ab + Bx+Ba \\Longrightarrow 1=x(A+B) + Ab + Ba$\n",
    "\n",
    "We observe this can be represented as a matrix equation:\n",
    "\n",
    "$\\left[\\begin{array}{ccc}\n",
    "x & x \\\\\n",
    "b & a \\\\\n",
    "\\end{array}\\right]\n",
    "\\left[\\begin{array}{c}\n",
    "A\\\\\n",
    "B\\\\\\end{array}\\right]=\n",
    "\\left[\\begin{array}{c}\n",
    "0 \\\\\n",
    "1 \\\\\n",
    "\\end{array}\\right]\n",
    "$  and we multiply by the inverse to get:"
   ]
  },
  {
   "cell_type": "markdown",
   "metadata": {},
   "source": [
    "$\\left[\\begin{array}{c}\n",
    "A\\\\\n",
    "B\\\\\\end{array}\\right]={1\\over x(a-b)}\n",
    "\\left[\\begin{array}{cc}\n",
    "a & -x \\\\\n",
    "-b & x \\\\\n",
    "\\end{array}\\right]\n",
    "\\left[\\begin{array}{c}\n",
    "0 \\\\\n",
    "1 \\\\\n",
    "\\end{array}\\right]=\n",
    "{1\\over x(a-b)}\n",
    "\\left[\\begin{array}{c}\n",
    "-x \\\\\n",
    "x \\\\\n",
    "\\end{array}\\right]=\n",
    "{1\\over a-b}\n",
    "\\left[\\begin{array}{c}\n",
    "-1 \\\\\n",
    "1 \\\\\n",
    "\\end{array}\\right]\n",
    "$\n",
    "\n",
    "We thus find that: $A=-1/(a-b)$ and $B=1/(a-b)$"
   ]
  },
  {
   "cell_type": "markdown",
   "metadata": {},
   "source": [
    "Our left integral is now: $\\int {-1/(a-b)\\over(x+a)}+{1/(a-b)\\over x+b}dx={-1\\over a-b}\\int {1\\over x+a}dx+{1\\over a-b}\\int{1\\over x+b}dx$ and after integrating we get:"
   ]
  },
  {
   "cell_type": "markdown",
   "metadata": {},
   "source": [
    "${-1\\over a-b}\\ln{|x+a|}+{1\\over a-b}\\ln{|x+b|}=c_2-t$ where we have absorbed the constant from the left integration into the one on the right to create $c_2$.\n",
    "\n",
    "We now do some simplifying:"
   ]
  },
  {
   "cell_type": "markdown",
   "metadata": {},
   "source": [
    "$\\ln|x+b|-\\ln|x+a|=(a-b)(c_2-t) \\Longrightarrow \\ln|{x+b\\over x+a}|=(a-b)(c_2-t)$ And we place both left hand side and right hand side in exponent of base $e$ to get:"
   ]
  },
  {
   "cell_type": "markdown",
   "metadata": {},
   "source": [
    "$|{x+b\\over x+a}|=e^{(a-b)(c_2-t)}$ and we solve to get:\n",
    "\n",
    "${x+b\\over x+a}=\\pm e^{(a-b)(c_2-t)} \\Longrightarrow {x+b\\over x+a}=d e^{(a-b)(c_2-t)}$ where we have used $d$ to absorb that irritating $\\pm$"
   ]
  },
  {
   "cell_type": "markdown",
   "metadata": {},
   "source": [
    "$x+b=(x+a)de^{(a-b)(c_2-t)}=xde^{(a-b)(c_2-t)}+ade^{(a-b)(c_2-t)}$"
   ]
  },
  {
   "cell_type": "markdown",
   "metadata": {},
   "source": [
    "$x-xde^{(a-b)(c_2-t)}=ade^{(a-b)(c_2-t)}-b$"
   ]
  },
  {
   "cell_type": "markdown",
   "metadata": {},
   "source": [
    "$x(1-de^{(a-b)(c_2-t)})=ade^{(a-b)(c_2-t)}-b$\n",
    "\n",
    "$x={ade^{(a-b)(c_2-t)}-b\\over 1-de^{(a-b)(c_2-t)}}$\n",
    "\n",
    "####Work on the constants"
   ]
  },
  {
   "cell_type": "markdown",
   "metadata": {},
   "source": [
    "$a-b={1+\\sqrt{1-4h}\\over 2}-{1-\\sqrt{1-4h}\\over 2}={1-1+\\sqrt{1-4h}+\\sqrt{1-4h}\\over 2}=\\sqrt{1-4h}$\n",
    "\n",
    "We also observe that: $b=a-\\sqrt{1-4h}$\n",
    "\n",
    "Thus plugging these in we find:"
   ]
  },
  {
   "cell_type": "markdown",
   "metadata": {},
   "source": [
    "$x(t)={{(1+\\sqrt{1-4h})\\over 2}de^{\\sqrt{1-4h}(c_2-t)}-{1+\\sqrt{1-4h}\\over 2}+\\sqrt{1-4h}\\over 1-de^{\\sqrt{1-4h}(c_2-t)}}$ and after simplifying the fraction we find:"
   ]
  },
  {
   "cell_type": "markdown",
   "metadata": {},
   "source": [
    "$x(t)=[(1+\\sqrt{1-4h})de^{\\sqrt{1-4h}(c_2-t)}-1]/[ 2(1-de^{\\sqrt{1-4h}(c_2-t)})]$"
   ]
  },
  {
   "cell_type": "markdown",
   "metadata": {},
   "source": [
    "###Work on when we have imaginary roots..."
   ]
  },
  {
   "cell_type": "markdown",
   "metadata": {},
   "source": [
    "We now proceed to work on the equation when: $1-4h<0$\n",
    "\n",
    "We thus have two imaginary solutions: $x={1\\pm i\\sqrt{1-4h}\\over 2}$ which we shall again refer to as: $a,b$. \n",
    "\n",
    "We know though that there exists $c,d$ such that: $a=c+di$ and $b=c-di$ Our fraction in the left-hand integral thus becomes:\n",
    "\n",
    "${1\\over (x+c+di)(x+c-di)}={1\\over x^2+xc-xdi+xc+c^2-cdi+xdi+cdi+d^2}=1/(x^2+2xc+c^2+d^2)=1/((x+c)^2+d^2)$\n",
    "\n",
    "We thus now have this situation:"
   ]
  },
  {
   "cell_type": "markdown",
   "metadata": {},
   "source": [
    "$\\int 1/((x+c)^2+d^2)dx = f-t$ where we have chosen $f$ to be our constant from the right-hand integration.\n",
    "\n",
    "We use a CAS to integrate the left-hand side."
   ]
  },
  {
   "cell_type": "markdown",
   "metadata": {},
   "source": [
    "$\\arctan({(x+c)/d})/d=g-t$ where we have absorbed the costant from left hand integration into $f$"
   ]
  },
  {
   "cell_type": "markdown",
   "metadata": {},
   "source": [
    "$\\arctan((x+c)/d)=d(g-t)$\n",
    "\n",
    "$(x+c)/d=\\tan(d(g-t))$\n",
    "\n",
    "$x+c=d\\tan(d(g-t))$\n",
    "\n",
    "$x=d\\tan(d(g-t))-c$ or in expanded form: ;)"
   ]
  },
  {
   "cell_type": "markdown",
   "metadata": {},
   "source": [
    "$x(t)=(\\sqrt{1-4h}/2)\\tan[(\\sqrt{1-4h}/2)(g-t)]-1/2$ is our second final solution."
   ]
  },
  {
   "cell_type": "markdown",
   "metadata": {},
   "source": [
    "Thus the general solution is:\n",
    "\n",
    "$x(t)=\\begin{cases}\n",
    "[(1+\\sqrt{1-4h})de^{\\sqrt{1-4h}(c_2-t)}-1]/[ 2(1-de^{\\sqrt{1-4h}(c_2-t)})] \\textrm{ when } 1-4h>0 \\\\\n",
    "\\\\\n",
    "(\\sqrt{1-4h}/2)\\tan[(\\sqrt{1-4h}/2)(g-t)]-1/2 \\textrm{ when } 1-4h<0 \\\\\n",
    "\\end{cases}$\n",
    "\n",
    "where $d=\\pm 1$ and ${c_2,g,h}$ are constants to be determined."
   ]
  }
 ],
 "metadata": {
  "kernelspec": {
   "display_name": "Python 2",
   "language": "python",
   "name": "python2"
  },
  "language_info": {
   "codemirror_mode": {
    "name": "ipython",
    "version": 2
   },
   "file_extension": ".py",
   "mimetype": "text/x-python",
   "name": "python",
   "nbconvert_exporter": "python",
   "pygments_lexer": "ipython2",
   "version": "2.7.6"
  }
 },
 "nbformat": 4,
 "nbformat_minor": 0
}
